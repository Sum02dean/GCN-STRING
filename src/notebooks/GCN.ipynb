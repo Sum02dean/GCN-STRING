{
 "cells": [
  {
   "cell_type": "code",
   "execution_count": 1,
   "metadata": {},
   "outputs": [
    {
     "name": "stderr",
     "output_type": "stream",
     "text": [
      "/mnt/mnemo5/sum02dean/miniconda3/envs/gcn-env/lib/python3.9/site-packages/tqdm/auto.py:22: TqdmWarning: IProgress not found. Please update jupyter and ipywidgets. See https://ipywidgets.readthedocs.io/en/stable/user_install.html\n",
      "  from .autonotebook import tqdm as notebook_tqdm\n"
     ]
    }
   ],
   "source": [
    "import os\n",
    "sys.path.append(\"../\")\n",
    "import sys\n",
    "from utilities.gcn_utills import *\n",
    "import torch\n",
    "import pickle\n",
    "import matplotlib.pyplot as plt\n",
    "import numpy as np\n",
    "import math\n",
    "import random\n",
    "import networkx as nx\n",
    "import glob\n",
    "import pandas as pd\n",
    "import scipy \n",
    "import torch\n",
    "import torch.nn.functional as F\n",
    "from tqdm import tqdm\n",
    "from torch_geometric.utils import convert\n",
    "from torch_geometric.data import InMemoryDataset, download_url, Data\n",
    "from torch_geometric.loader import DataLoader\n",
    "from torch.nn import Linear\n",
    "from torch_geometric.nn import GCNConv, GATConv\n",
    "from torch_geometric.nn import global_mean_pool, global_max_pool\n",
    "\n",
    "from sklearn.metrics import roc_curve, auc\n",
    "from sklearn.model_selection import train_test_split\n",
    "from sklearn.preprocessing import label_binarize\n",
    "from sklearn.multiclass import OneVsRestClassifier\n",
    "from sklearn.metrics import roc_auc_score\n",
    "from sklearn.preprocessing import MinMaxScaler\n",
    "\n"
   ]
  },
  {
   "cell_type": "code",
   "execution_count": 2,
   "metadata": {},
   "outputs": [],
   "source": [
    "# Load in label by name\n",
    "def get_label(file, labels):\n",
    "    pair_1 = file.split('/')[-1]\n",
    "    pair_1, pair_2 = pair_1.split(\"and\")\n",
    "    pair_1 = pair_1.replace(\".gpickle\", \"\")\n",
    "    pair_2 = pair_2.replace(\".gpickle\", \"\")\n",
    "    l = int(labels.loc[(labels.protein_1 == pair_1) & (labels.protein_2 == pair_2)].label)\n",
    "    return file, l\n",
    "\n",
    "def read_graphs(file_set):\n",
    "    g_list = []\n",
    "    for i, file in enumerate(file_set):\n",
    "        G = nx.read_gpickle(file)\n",
    "        g_list.append(G)\n",
    "    return g_list\n",
    "    \n",
    "def format_graphs(graphs, label=1):\n",
    "    graph_list = []\n",
    "    # Convert into pytorch geoetric dataset\n",
    "    for i, x in enumerate(tqdm(graphs)):\n",
    "        F = nx.convert_node_labels_to_integers(x)\n",
    "        \n",
    "        # nx default addition edge name - undesirbale\n",
    "        att = 'weight' \n",
    "        for (n1, n2, d) in F.edges(data=True):\n",
    "            if att in d:\n",
    "                # To clear specific edge data\n",
    "                d.pop(att, None) \n",
    "\n",
    "        data = convert.from_networkx(F, group_edge_attrs=['dca', 'proximity'])\n",
    "        data.y = torch.FloatTensor(np.array([label]))\n",
    "        graph_list.append(data)\n",
    "    return graph_list\n",
    "\n",
    "def binary_acc(y_pred, y_test):\n",
    "    probas = torch.sigmoid(y_pred)\n",
    "    y_pred_tag = torch.round(torch.sigmoid(y_pred))\n",
    "    correct_results_sum = (y_pred_tag == y_test).sum().float()\n",
    "    acc = correct_results_sum/y_test.shape[0]\n",
    "    acc = torch.round(acc * 100)\n",
    "    return acc, y_pred_tag, probas"
   ]
  },
  {
   "cell_type": "code",
   "execution_count": 3,
   "metadata": {},
   "outputs": [],
   "source": [
    "# Import the data\n",
    "graph_dir_path = '/mnt/mnemo5/sum02dean/sl_projects/GCN/GCN-STRING/src/scripts/dca_graph_data'\n",
    "labels_dir_path = '/mnt/mnemo5/sum02dean/sl_projects/GCN/GCN-STRING/src/scripts/dca_graph_labels'\n",
    "\n",
    "graph_files = glob.glob(os.path.join(graph_dir_path, '*'))\n",
    "graph_labels = glob.glob(os.path.join(labels_dir_path, '*'))\n",
    "graph_labels = pd.read_csv(graph_labels[0])\n",
    "\n",
    "# Create positive and negative sets\n",
    "positives = []\n",
    "pos_labels = []\n",
    "\n",
    "negatives = []\n",
    "neg_labels = []\n",
    "\n",
    "for i, file in enumerate(graph_files):\n",
    "    obs, label = get_label(file, graph_labels)\n",
    "    \n",
    "    if label == 1:\n",
    "        positives.append(obs)\n",
    "        pos_labels.append([1,0])\n",
    "    else:\n",
    "        negatives.append(obs)\n",
    "        neg_labels.append([0,1])\n"
   ]
  },
  {
   "cell_type": "code",
   "execution_count": 4,
   "metadata": {},
   "outputs": [],
   "source": [
    "# Balance the number of negatives with number of positives\n",
    "negatives = np.random.choice(negatives, size=len(positives), replace=False)"
   ]
  },
  {
   "cell_type": "code",
   "execution_count": 5,
   "metadata": {},
   "outputs": [],
   "source": [
    "# Read in the positives\n",
    "pos_graphs = read_graphs(positives)\n",
    "neg_graphs = read_graphs(negatives)\n"
   ]
  },
  {
   "cell_type": "code",
   "execution_count": 6,
   "metadata": {},
   "outputs": [
    {
     "name": "stderr",
     "output_type": "stream",
     "text": [
      "  0%|          | 0/5417 [00:00<?, ?it/s]/mnt/mnemo5/sum02dean/miniconda3/envs/gcn-env/lib/python3.9/site-packages/torch_geometric/utils/convert.py:178: UserWarning: Creating a tensor from a list of numpy.ndarrays is extremely slow. Please consider converting the list to a single numpy.ndarray with numpy.array() before converting to a tensor. (Triggered internally at  ../torch/csrc/utils/tensor_new.cpp:210.)\n",
      "  data[key] = torch.tensor(value)\n",
      "100%|██████████| 5417/5417 [07:11<00:00, 12.56it/s]\n",
      "100%|██████████| 5417/5417 [09:51<00:00,  9.16it/s]  \n"
     ]
    }
   ],
   "source": [
    "# Format graphs\n",
    "positive_graphs = format_graphs(pos_graphs, label=1)\n",
    "negative_graphs = format_graphs(neg_graphs, label=0)"
   ]
  },
  {
   "cell_type": "code",
   "execution_count": 7,
   "metadata": {},
   "outputs": [],
   "source": [
    "# Make sure number of negative graphs equal number of positives graphs\n",
    "assert(len(negative_graphs) == len(positive_graphs))\n",
    "\n",
    "# # Combine negative and positive data\n",
    "balanced_graphs = positive_graphs + negative_graphs\n",
    "\n",
    "# # Sclaer\n",
    "# ss = MinMaxScaler()\n",
    "# train_x = np.vstack([d.x for d in balanced_graphs])\n",
    "# train_x = pd.DataFrame(train_x)\n",
    "# train_x = pd.DataFrame(ss.fit_transform(train_x))\n",
    "\n",
    "# for i in range(len(balanced_graphs)):\n",
    "#     balanced_graphs[i].x = torch.FloatTensor(ss.transform(balanced_graphs[i].x))\n"
   ]
  },
  {
   "cell_type": "code",
   "execution_count": 9,
   "metadata": {},
   "outputs": [],
   "source": [
    "# Split into train and test\n",
    "train_idx = np.random.choice(a=[False, True], size=len(balanced_graphs))\n",
    "test_idx = ~train_idx\n",
    "\n",
    "# Convert range to array \n",
    "full_idx = np.array(range(len(balanced_graphs)))\n",
    "\n",
    "# Grab indices using Boolean array\n",
    "tr_idx = full_idx[train_idx]\n",
    "te_idx = full_idx[test_idx]\n",
    "\n",
    "# Slice train and test data\n",
    "train_data = [balanced_graphs[x] for x in tr_idx]\n",
    "test_data = [balanced_graphs[x] for x in te_idx]\n",
    "\n"
   ]
  },
  {
   "cell_type": "code",
   "execution_count": 43,
   "metadata": {},
   "outputs": [
    {
     "name": "stdout",
     "output_type": "stream",
     "text": [
      "cpu\n"
     ]
    }
   ],
   "source": [
    "# Select appropriate device\n",
    "device = torch.device('cuda' if torch.cuda.is_available() else 'cpu')\n",
    "print(device)\n",
    "\n",
    "# Define model\n",
    "class GCN(torch.nn.Module):\n",
    "    def __init__(self, hidden_channels=100, n_heads=1):\n",
    "        super(GCN, self).__init__()\n",
    "\n",
    "        # Parameters\n",
    "        self.num_node_features = 16\n",
    "        self.num_classes = 1\n",
    "        self.hidden_channels = hidden_channels\n",
    "        self.n_heads = n_heads\n",
    "\n",
    "        # Layers (consider using class SAGEConv instead)\n",
    "        self.conv1 = GATConv(self.num_node_features, self.hidden_channels, edge_dim=2, heads=n_heads)\n",
    "        # self.linear_1 = Linear(self.hidden_channels * self.n_heads, self.hidden_channels)\n",
    "        self.linear_2 = Linear(self.hidden_channels, self.num_classes)\n",
    "\n",
    "        # Paramteric PRelU\n",
    "        self.prelu_1 = torch.nn.PReLU()\n",
    "        self.prelu_2 = torch.nn.PReLU()\n",
    "        self.prelu_3 = torch.nn.PReLU()\n",
    "\n",
    "        # Regularization\n",
    "        p = 0.1\n",
    "        self.drop_out = torch.nn.Dropout(p=p)\n",
    "\n",
    "        # Batch Normalization\n",
    "        self.batch_norm_1 = torch.nn.BatchNorm1d(num_features=self.hidden_channels, track_running_stats=False, momentum=None)\n",
    "        self.batch_norm_2 = torch.nn.BatchNorm1d(num_features=self.hidden_channels, track_running_stats=False, momentum=None)\n",
    "        self.batch_norm_3 = torch.nn.BatchNorm1d(num_features=self.num_classes, track_running_stats=False, momentum=None)\n",
    "\n",
    "    def forward(self, x, edge_index, batch, edge_features):\n",
    "\n",
    "        # 1.Conv block 1\n",
    "        x = self.conv1(x=x, edge_index=edge_index, edge_attr=edge_features)\n",
    "        x = self.prelu_1(x)\n",
    "        \n",
    "        # Feature pooling\n",
    "        x = global_mean_pool(x, batch)  # --> [batch_size, hidden_channels]\n",
    "\n",
    "        # 3. Linearization\n",
    "        # x = self.linear_1(x)\n",
    "        # x = self.batch_norm_2(x)\n",
    "        # x = self.prelu_2(x)\n",
    "\n",
    "        # 4. Logic outputs\n",
    "        x = self.linear_2(x)\n",
    "        x = self.batch_norm_3(x)\n",
    "        x = self.drop_out(x)\n",
    "        x = self.prelu_2(x)\n",
    "        return x\n"
   ]
  },
  {
   "cell_type": "code",
   "execution_count": 44,
   "metadata": {},
   "outputs": [
    {
     "name": "stdout",
     "output_type": "stream",
     "text": [
      "GCN(\n",
      "  (conv1): GATConv(16, 100, heads=1)\n",
      "  (linear_2): Linear(in_features=100, out_features=1, bias=True)\n",
      "  (prelu_1): PReLU(num_parameters=1)\n",
      "  (prelu_2): PReLU(num_parameters=1)\n",
      "  (prelu_3): PReLU(num_parameters=1)\n",
      "  (drop_out): Dropout(p=0.1, inplace=False)\n",
      "  (batch_norm_1): BatchNorm1d(100, eps=1e-05, momentum=None, affine=True, track_running_stats=False)\n",
      "  (batch_norm_2): BatchNorm1d(100, eps=1e-05, momentum=None, affine=True, track_running_stats=False)\n",
      "  (batch_norm_3): BatchNorm1d(1, eps=1e-05, momentum=None, affine=True, track_running_stats=False)\n",
      ")\n"
     ]
    }
   ],
   "source": [
    "# Build model\n",
    "model = GCN(hidden_channels=100, n_heads=1)\n",
    "print(model)"
   ]
  },
  {
   "cell_type": "code",
   "execution_count": 45,
   "metadata": {},
   "outputs": [],
   "source": [
    "# Configs\n",
    "BATCH_SIZE = 50\n",
    "EPOCHS = 100\n",
    "LEARNING_RATE = 0.0002\n",
    "\n",
    "# Optimizers & Criterion\n",
    "optimizer = torch.optim.Adam(model.parameters(), lr=LEARNING_RATE)\n",
    "criterion = torch.nn.BCEWithLogitsLoss()\n",
    "\n",
    "# Data-loaders\n",
    "train_loader = DataLoader(train_data, batch_size=BATCH_SIZE, shuffle=True)\n",
    "test_loader = DataLoader(test_data, batch_size=BATCH_SIZE, shuffle=False)\n",
    "all_loader  = DataLoader(balanced_graphs, batch_size=BATCH_SIZE, shuffle=False)\n"
   ]
  },
  {
   "cell_type": "code",
   "execution_count": 46,
   "metadata": {},
   "outputs": [],
   "source": [
    "class SaveBestModel:\n",
    "    \"\"\"\n",
    "    Class to save the best model while training. If the current epoch's \n",
    "    validation loss is less than the previous least less, then save the\n",
    "    model state.\n",
    "    \"\"\"\n",
    "    def __init__(\n",
    "        self, best_valid_loss=float('inf')\n",
    "    ):\n",
    "        self.best_valid_loss = best_valid_loss\n",
    "        \n",
    "    def __call__(\n",
    "        self, current_valid_loss, \n",
    "        epoch, model, optimizer, criterion\n",
    "    ):\n",
    "        if current_valid_loss < self.best_valid_loss:\n",
    "            self.best_valid_loss = current_valid_loss\n",
    "            print(f\"\\nBest validation loss: {self.best_valid_loss}\")\n",
    "            print(f\"\\nSaving best model for epoch: {epoch+1}\\n\")\n",
    "            torch.save({\n",
    "                'epoch': epoch+1,\n",
    "                'model_state_dict': model.state_dict(),\n",
    "                'optimizer_state_dict': optimizer.state_dict(),\n",
    "                'loss': criterion,\n",
    "                }, 'checkpoint/best_model.pth')"
   ]
  },
  {
   "cell_type": "code",
   "execution_count": 48,
   "metadata": {},
   "outputs": [
    {
     "name": "stdout",
     "output_type": "stream",
     "text": [
      "Begining training!\n"
     ]
    },
    {
     "name": "stderr",
     "output_type": "stream",
     "text": [
      "Epoch 1/100:  loss 0.682:  51%|█████▏    | 111/216 [09:09<08:39,  4.95s/it]\n"
     ]
    },
    {
     "name": "stdout",
     "output_type": "stream",
     "text": [
      "[] []\n",
      "\n",
      "Best validation loss: 3887.779278576374\n",
      "\n",
      "Saving best model for epoch: 1\n",
      "\n"
     ]
    },
    {
     "name": "stderr",
     "output_type": "stream",
     "text": [
      "Epoch 2/100:  loss 0.676:  51%|█████▏    | 111/216 [09:09<08:40,  4.95s/it]\n"
     ]
    },
    {
     "name": "stdout",
     "output_type": "stream",
     "text": [
      "[] []\n",
      "\n",
      "Best validation loss: 3876.7780342698097\n",
      "\n",
      "Saving best model for epoch: 2\n",
      "\n"
     ]
    },
    {
     "name": "stderr",
     "output_type": "stream",
     "text": [
      "Epoch 3/100:  loss 0.678:  22%|██▏       | 48/216 [04:03<14:12,  5.08s/it]\n"
     ]
    },
    {
     "ename": "KeyboardInterrupt",
     "evalue": "",
     "output_type": "error",
     "traceback": [
      "\u001b[0;31m---------------------------------------------------------------------------\u001b[0m",
      "\u001b[0;31mKeyboardInterrupt\u001b[0m                         Traceback (most recent call last)",
      "\u001b[1;32m/mnt/mnemo5/sum02dean/sl_projects/GCN/GCN-STRING/src/notebooks/GCN.ipynb Cell 13'\u001b[0m in \u001b[0;36m<cell line: 10>\u001b[0;34m()\u001b[0m\n\u001b[1;32m     <a href='vscode-notebook-cell://ssh-remote%2Blphobos/mnt/mnemo5/sum02dean/sl_projects/GCN/GCN-STRING/src/notebooks/GCN.ipynb#ch0000011vscode-remote?line=29'>30</a>\u001b[0m epoch_loss \u001b[39m+\u001b[39m\u001b[39m=\u001b[39m loss\u001b[39m.\u001b[39mitem() \n\u001b[1;32m     <a href='vscode-notebook-cell://ssh-remote%2Blphobos/mnt/mnemo5/sum02dean/sl_projects/GCN/GCN-STRING/src/notebooks/GCN.ipynb#ch0000011vscode-remote?line=31'>32</a>\u001b[0m \u001b[39m# Backwards + optimize\u001b[39;00m\n\u001b[0;32m---> <a href='vscode-notebook-cell://ssh-remote%2Blphobos/mnt/mnemo5/sum02dean/sl_projects/GCN/GCN-STRING/src/notebooks/GCN.ipynb#ch0000011vscode-remote?line=32'>33</a>\u001b[0m loss\u001b[39m.\u001b[39;49mbackward() \n\u001b[1;32m     <a href='vscode-notebook-cell://ssh-remote%2Blphobos/mnt/mnemo5/sum02dean/sl_projects/GCN/GCN-STRING/src/notebooks/GCN.ipynb#ch0000011vscode-remote?line=33'>34</a>\u001b[0m epoch_loss \u001b[39m+\u001b[39m\u001b[39m=\u001b[39m logits\u001b[39m.\u001b[39mshape[\u001b[39m0\u001b[39m] \u001b[39m*\u001b[39m loss\u001b[39m.\u001b[39mitem()\n\u001b[1;32m     <a href='vscode-notebook-cell://ssh-remote%2Blphobos/mnt/mnemo5/sum02dean/sl_projects/GCN/GCN-STRING/src/notebooks/GCN.ipynb#ch0000011vscode-remote?line=34'>35</a>\u001b[0m running_loss \u001b[39m+\u001b[39m\u001b[39m=\u001b[39m loss\u001b[39m.\u001b[39mitem()\n",
      "File \u001b[0;32m~/miniconda3/envs/gcn-env/lib/python3.9/site-packages/torch/_tensor.py:363\u001b[0m, in \u001b[0;36mTensor.backward\u001b[0;34m(self, gradient, retain_graph, create_graph, inputs)\u001b[0m\n\u001b[1;32m    <a href='file:///mnt/mnemo5/sum02dean/miniconda3/envs/gcn-env/lib/python3.9/site-packages/torch/_tensor.py?line=353'>354</a>\u001b[0m \u001b[39mif\u001b[39;00m has_torch_function_unary(\u001b[39mself\u001b[39m):\n\u001b[1;32m    <a href='file:///mnt/mnemo5/sum02dean/miniconda3/envs/gcn-env/lib/python3.9/site-packages/torch/_tensor.py?line=354'>355</a>\u001b[0m     \u001b[39mreturn\u001b[39;00m handle_torch_function(\n\u001b[1;32m    <a href='file:///mnt/mnemo5/sum02dean/miniconda3/envs/gcn-env/lib/python3.9/site-packages/torch/_tensor.py?line=355'>356</a>\u001b[0m         Tensor\u001b[39m.\u001b[39mbackward,\n\u001b[1;32m    <a href='file:///mnt/mnemo5/sum02dean/miniconda3/envs/gcn-env/lib/python3.9/site-packages/torch/_tensor.py?line=356'>357</a>\u001b[0m         (\u001b[39mself\u001b[39m,),\n\u001b[0;32m   (...)\u001b[0m\n\u001b[1;32m    <a href='file:///mnt/mnemo5/sum02dean/miniconda3/envs/gcn-env/lib/python3.9/site-packages/torch/_tensor.py?line=360'>361</a>\u001b[0m         create_graph\u001b[39m=\u001b[39mcreate_graph,\n\u001b[1;32m    <a href='file:///mnt/mnemo5/sum02dean/miniconda3/envs/gcn-env/lib/python3.9/site-packages/torch/_tensor.py?line=361'>362</a>\u001b[0m         inputs\u001b[39m=\u001b[39minputs)\n\u001b[0;32m--> <a href='file:///mnt/mnemo5/sum02dean/miniconda3/envs/gcn-env/lib/python3.9/site-packages/torch/_tensor.py?line=362'>363</a>\u001b[0m torch\u001b[39m.\u001b[39;49mautograd\u001b[39m.\u001b[39;49mbackward(\u001b[39mself\u001b[39;49m, gradient, retain_graph, create_graph, inputs\u001b[39m=\u001b[39;49minputs)\n",
      "File \u001b[0;32m~/miniconda3/envs/gcn-env/lib/python3.9/site-packages/torch/autograd/__init__.py:173\u001b[0m, in \u001b[0;36mbackward\u001b[0;34m(tensors, grad_tensors, retain_graph, create_graph, grad_variables, inputs)\u001b[0m\n\u001b[1;32m    <a href='file:///mnt/mnemo5/sum02dean/miniconda3/envs/gcn-env/lib/python3.9/site-packages/torch/autograd/__init__.py?line=167'>168</a>\u001b[0m     retain_graph \u001b[39m=\u001b[39m create_graph\n\u001b[1;32m    <a href='file:///mnt/mnemo5/sum02dean/miniconda3/envs/gcn-env/lib/python3.9/site-packages/torch/autograd/__init__.py?line=169'>170</a>\u001b[0m \u001b[39m# The reason we repeat same the comment below is that\u001b[39;00m\n\u001b[1;32m    <a href='file:///mnt/mnemo5/sum02dean/miniconda3/envs/gcn-env/lib/python3.9/site-packages/torch/autograd/__init__.py?line=170'>171</a>\u001b[0m \u001b[39m# some Python versions print out the first line of a multi-line function\u001b[39;00m\n\u001b[1;32m    <a href='file:///mnt/mnemo5/sum02dean/miniconda3/envs/gcn-env/lib/python3.9/site-packages/torch/autograd/__init__.py?line=171'>172</a>\u001b[0m \u001b[39m# calls in the traceback and some print out the last line\u001b[39;00m\n\u001b[0;32m--> <a href='file:///mnt/mnemo5/sum02dean/miniconda3/envs/gcn-env/lib/python3.9/site-packages/torch/autograd/__init__.py?line=172'>173</a>\u001b[0m Variable\u001b[39m.\u001b[39;49m_execution_engine\u001b[39m.\u001b[39;49mrun_backward(  \u001b[39m# Calls into the C++ engine to run the backward pass\u001b[39;49;00m\n\u001b[1;32m    <a href='file:///mnt/mnemo5/sum02dean/miniconda3/envs/gcn-env/lib/python3.9/site-packages/torch/autograd/__init__.py?line=173'>174</a>\u001b[0m     tensors, grad_tensors_, retain_graph, create_graph, inputs,\n\u001b[1;32m    <a href='file:///mnt/mnemo5/sum02dean/miniconda3/envs/gcn-env/lib/python3.9/site-packages/torch/autograd/__init__.py?line=174'>175</a>\u001b[0m     allow_unreachable\u001b[39m=\u001b[39;49m\u001b[39mTrue\u001b[39;49;00m, accumulate_grad\u001b[39m=\u001b[39;49m\u001b[39mTrue\u001b[39;49;00m)\n",
      "\u001b[0;31mKeyboardInterrupt\u001b[0m: "
     ]
    }
   ],
   "source": [
    "# Train loop\n",
    "print(\"Begining training!\")\n",
    "model.train()\n",
    "dtype = torch.float\n",
    "model = model.float()\n",
    "n_obs = np.shape(balanced_graphs)[0]\n",
    "update_every = 10\n",
    "checkpoint = SaveBestModel()\n",
    "\n",
    "for epoch in range(EPOCHS):\n",
    "    running_loss = 0.0\n",
    "    epoch_loss = 0.0\n",
    "    epoch_losses = []\n",
    "    test_losses = []\n",
    "\n",
    "\n",
    "    with tqdm(total=n_obs // BATCH_SIZE) as pbar:\n",
    "        for i, data in enumerate(train_loader): \n",
    "\n",
    "            # Grab data variables\n",
    "            X, Y, EI, EA, B = data.x, data.y, data.edge_index, data.edge_attr, data.batch\n",
    "            optimizer.zero_grad()  \n",
    "\n",
    "            # Compute model outputs\n",
    "            logits = model(X.type(dtype), EI, B, EA.type(dtype))\n",
    "            probas = torch.sigmoid(logits.flatten())\n",
    "\n",
    "            # Calculate loss\n",
    "            loss = criterion(probas, Y)  \n",
    "            epoch_loss += loss.item() \n",
    "\n",
    "            # Backwards + optimize\n",
    "            loss.backward() \n",
    "            epoch_loss += logits.shape[0] * loss.item()\n",
    "            running_loss += loss.item()\n",
    "            optimizer.step()\n",
    "\n",
    "            # Update progress bar\n",
    "            pbar.update(1)\n",
    "            if i % update_every == update_every - 1:\n",
    "                pbar.set_description(f'Epoch {epoch + 1}/{EPOCHS}:  loss {running_loss / update_every:.3f}')\n",
    "                running_loss = 0.0  \n",
    "\n",
    "    # With torch loss\n",
    "    with torch.no_grad():\n",
    "        test_loss = 0.0\n",
    "\n",
    "        for j, data in enumerate(test_loader):\n",
    "\n",
    "                # Grab data variables\n",
    "            X, Y, EI, EA, B = data.x, data.y, data.edge_index, data.edge_attr, data.batch\n",
    "            optimizer.zero_grad()  \n",
    "\n",
    "            # Compute model outputs\n",
    "            logits = model(X.type(dtype), EI, B, EA.type(dtype))\n",
    "            probas = torch.sigmoid(logits.flatten())\n",
    "            \n",
    "            loss = criterion(probas, Y)\n",
    "            test_loss += logits.shape[0] * loss.item()\n",
    "\n",
    "        # Save the best model\n",
    "        print(epoch_losses, test_losses)\n",
    "        test_losses.append(test_loss / n_obs)\n",
    "        checkpoint(test_loss, epoch, model, optimizer, criterion)\n",
    "    \n",
    "    # Append epoch loss to list\n",
    "    epoch_losses.append(epoch_loss / n_obs)\n",
    "    test_losses.append(test_loss / n_obs)\n",
    "    \n",
    "\n",
    "\n"
   ]
  },
  {
   "cell_type": "code",
   "execution_count": 21,
   "metadata": {},
   "outputs": [
    {
     "name": "stderr",
     "output_type": "stream",
     "text": [
      "100%|██████████| 107/107 [00:19<00:00,  5.56it/s]\n"
     ]
    },
    {
     "data": {
      "image/png": "[encoded data removed]",
      "text/plain": [
       "<Figure size 432x288 with 1 Axes>"
      ]
     },
     "metadata": {
      "needs_background": "light"
     },
     "output_type": "display_data"
    }
   ],
   "source": [
    "predictions = []\n",
    "probabilities = []\n",
    "truths = []\n",
    "\n",
    "# Loadder names: train_loader, test_loader, all_loader\n",
    "model.eval()\n",
    "with torch.no_grad():\n",
    "    for data in tqdm(test_loader): \n",
    "        \n",
    "        # Grab inputs\n",
    "        X, Y, EI, EA, B = data.x, data.y, data.edge_index, data.edge_attr, data.batch\n",
    "\n",
    "        # Compute preds\n",
    "        logits = model(X.type(dtype), EI, B, EA.type(dtype))\n",
    "        acc, pred, probas = binary_acc(logits.flatten(), Y)\n",
    "\n",
    "        # Append data\n",
    "        predictions.append(pred)\n",
    "        probabilities.append(probas)\n",
    "        truths.append(Y)\n",
    "\n",
    "# Format\n",
    "p = np.hstack(predictions)\n",
    "t = np.hstack(truths)\n",
    "prob = np.array(torch.concat(probabilities))\n",
    "\n",
    "# AUC/ROC\n",
    "fpr, tpr, _ = roc_curve(t, prob)\n",
    "roc_auc = auc(fpr, tpr)\n",
    "\n",
    "# Plotting\n",
    "plt.figure()\n",
    "lw = 0.8\n",
    "plt.plot(fpr, tpr, \"r--\", lw=lw, label=\"ROC curve (area = %0.2f)\" % roc_auc)\n",
    "plt.plot([0, 1], [0, 1], color=\"navy\", lw=lw, linestyle=\"--\")\n",
    "plt.xlim([0.0, 1.0])\n",
    "plt.ylim([0.0, 1.05])\n",
    "plt.xlabel(\"False Positive Rate\")\n",
    "plt.ylabel(\"True Positive Rate\")\n",
    "plt.title(\"Receiver operating characteristic example for GCN\")\n",
    "plt.legend(loc=\"lower right\")\n",
    "plt.show()\n",
    "plt.show()\n"
   ]
  },
  {
   "cell_type": "code",
   "execution_count": null,
   "metadata": {},
   "outputs": [],
   "source": []
  }
 ],
 "metadata": {
  "interpreter": {
   "hash": "857b02135dd2fa803b542477b275fd483f2e548800459800cf14ab30547348af"
  },
  "kernelspec": {
   "display_name": "gcn-env",
   "language": "python",
   "name": "python3"
  },
  "language_info": {
   "codemirror_mode": {
    "name": "ipython",
    "version": 3
   },
   "file_extension": ".py",
   "mimetype": "text/x-python",
   "name": "python",
   "nbconvert_exporter": "python",
   "pygments_lexer": "ipython3",
   "version": "3.9.11"
  }
 },
 "nbformat": 4,
 "nbformat_minor": 4
}
