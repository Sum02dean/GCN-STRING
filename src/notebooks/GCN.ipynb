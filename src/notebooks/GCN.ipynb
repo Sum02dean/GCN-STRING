{
 "cells": [
  {
   "cell_type": "code",
   "execution_count": 145,
   "metadata": {},
   "outputs": [],
   "source": [
    "import os\n",
    "import sys\n",
    "from utilities.gcn_utills import *\n",
    "import torch\n",
    "import pickle\n",
    "import matplotlib.pyplot as plt\n",
    "import numpy as np\n",
    "import math\n",
    "import random\n",
    "import networkx as nx\n",
    "import glob\n",
    "import pandas as pd\n",
    "import scipy \n",
    "import torch\n",
    "import torch.nn.functional as F\n",
    "from tqdm import tqdm\n",
    "from torch_geometric.utils import convert\n",
    "from torch_geometric.data import InMemoryDataset, download_url, Data\n",
    "from torch_geometric.loader import DataLoader\n",
    "from torch.nn import Linear\n",
    "from torch_geometric.nn import GCNConv\n",
    "from torch_geometric.nn import global_mean_pool, global_max_pool\n",
    "\n",
    "from sklearn.metrics import roc_curve, auc\n",
    "from sklearn.model_selection import train_test_split\n",
    "from sklearn.preprocessing import label_binarize\n",
    "from sklearn.multiclass import OneVsRestClassifier\n",
    "from sklearn.metrics import roc_auc_score\n"
   ]
  },
  {
   "cell_type": "code",
   "execution_count": 146,
   "metadata": {},
   "outputs": [],
   "source": [
    "# Load in label by name\n",
    "def get_label(file, labels):\n",
    "    pair_1 = file.split('/')[-1]\n",
    "    pair_1, pair_2 = pair_1.split(\"and\")\n",
    "    pair_1 = pair_1.replace(\".gpickle\", \"\")\n",
    "    pair_2 = pair_2.replace(\".gpickle\", \"\")\n",
    "    l = int(labels.loc[(labels.protein_1 == pair_1) & (labels.protein_2 == pair_2)].label)\n",
    "    return file, l\n",
    "\n",
    "def read_graphs(file_set):\n",
    "    g_list = []\n",
    "    for i, file in enumerate(file_set):\n",
    "        G = nx.read_gpickle(file)\n",
    "        g_list.append(G)\n",
    "    return g_list\n",
    "    \n",
    "def format_graphs(graphs, label=1):\n",
    "    graph_list = []\n",
    "    # Convert into pytorch geoetric dataset: Positive\n",
    "    for i, x in enumerate(tqdm(graphs)):\n",
    "        F = nx.convert_node_labels_to_integers(x)\n",
    "        for (n1, n2, d) in F.edges(data=True):\n",
    "            d.clear()\n",
    "        data = convert.from_networkx(F, group_edge_attrs=None)\n",
    "        data.y = torch.FloatTensor(np.array([label]))\n",
    "        graph_list.append(data)\n",
    "    return graph_list\n",
    "\n",
    "def binary_acc(y_pred, y_test):\n",
    "    probas = torch.sigmoid(y_pred)\n",
    "    y_pred_tag = torch.round(torch.sigmoid(y_pred))\n",
    "    correct_results_sum = (y_pred_tag == y_test).sum().float()\n",
    "    acc = correct_results_sum/y_test.shape[0]\n",
    "    acc = torch.round(acc * 100)\n",
    "    return acc, y_pred_tag, probas"
   ]
  },
  {
   "cell_type": "code",
   "execution_count": 147,
   "metadata": {},
   "outputs": [],
   "source": [
    "# Import the data\n",
    "graph_dir_path = '/mnt/mnemo5/sum02dean/sl_projects/GCN/GCN-STRING/src/scripts/graph_data'\n",
    "labels_dir_path = '/mnt/mnemo5/sum02dean/sl_projects/GCN/GCN-STRING/src/scripts/graph_labels'\n",
    "\n",
    "graph_files = glob.glob(os.path.join(graph_dir_path, '*'))\n",
    "graph_labels = glob.glob(os.path.join(labels_dir_path, '*'))\n",
    "graph_labels = pd.read_csv(graph_labels[0])\n",
    "\n",
    "# Create positive and negative sets\n",
    "positives = []\n",
    "pos_labels = []\n",
    "\n",
    "negatives = []\n",
    "neg_labels = []\n",
    "\n",
    "for i, file in enumerate(graph_files):\n",
    "    obs, label = get_label(file, graph_labels)\n",
    "    \n",
    "    if label == 1:\n",
    "        positives.append(obs)\n",
    "        pos_labels.append([1,0])\n",
    "    else:\n",
    "        negatives.append(obs)\n",
    "        neg_labels.append([0,1])\n"
   ]
  },
  {
   "cell_type": "code",
   "execution_count": 148,
   "metadata": {},
   "outputs": [],
   "source": [
    "# Balance the number of negatives with number of positives\n",
    "negatives = np.random.choice(negatives, size=len(positives), replace=False)"
   ]
  },
  {
   "cell_type": "code",
   "execution_count": 149,
   "metadata": {},
   "outputs": [],
   "source": [
    "# Read in the positives\n",
    "pos_graphs = read_graphs(positives)\n",
    "neg_graphs = read_graphs(negatives)\n"
   ]
  },
  {
   "cell_type": "code",
   "execution_count": 150,
   "metadata": {},
   "outputs": [
    {
     "name": "stderr",
     "output_type": "stream",
     "text": [
      "100%|██████████| 5456/5456 [05:01<00:00, 18.07it/s] \n",
      "100%|██████████| 5456/5456 [06:29<00:00, 14.00it/s]  \n"
     ]
    }
   ],
   "source": [
    "# Format graphs\n",
    "positive_graphs = format_graphs(pos_graphs, label=1)\n",
    "negative_graphs = format_graphs(neg_graphs, label=0)"
   ]
  },
  {
   "cell_type": "code",
   "execution_count": 151,
   "metadata": {},
   "outputs": [],
   "source": [
    "# Make sure number of negative graphs equal number of positives graphs\n",
    "assert (len(negative_graphs) == len(positive_graphs))"
   ]
  },
  {
   "cell_type": "code",
   "execution_count": 152,
   "metadata": {},
   "outputs": [],
   "source": [
    "# Combine negative and positive data\n",
    "balanced_graphs = positive_graphs + negative_graphs"
   ]
  },
  {
   "cell_type": "code",
   "execution_count": 153,
   "metadata": {},
   "outputs": [],
   "source": [
    "# Split into train and test\n",
    "train_idx = np.random.choice(a=[False, True], size=len(balanced_graphs))\n",
    "test_idx = ~train_idx\n",
    "\n",
    "# Convert range to array \n",
    "full_idx = np.array(range(len(balanced_graphs)))\n",
    "\n",
    "# Grab indices using Boolean array\n",
    "tr_idx = full_idx[train_idx]\n",
    "te_idx = full_idx[test_idx]\n",
    "\n",
    "# Slice train and test data\n",
    "train_data = [balanced_graphs[x] for x in tr_idx]\n",
    "test_data = [balanced_graphs[x] for x in te_idx]\n",
    "\n"
   ]
  },
  {
   "cell_type": "code",
   "execution_count": 201,
   "metadata": {},
   "outputs": [
    {
     "name": "stdout",
     "output_type": "stream",
     "text": [
      "cpu\n"
     ]
    }
   ],
   "source": [
    "# Select appropriate device\n",
    "device = torch.device('cuda' if torch.cuda.is_available() else 'cpu')\n",
    "print(device)\n",
    "\n",
    "# Define model\n",
    "class GCN(torch.nn.Module):\n",
    "    def __init__(self, hidden_channels=64):\n",
    "        super(GCN, self).__init__()\n",
    "\n",
    "        # Parameters\n",
    "        self.num_node_features = 16\n",
    "        self.num_classes = 1\n",
    "        self.hidden_channels = hidden_channels\n",
    "\n",
    "        # Layers (consider using class SAGEConv instead)\n",
    "        self.conv1 = GCNConv(self.num_node_features, self.hidden_channels)\n",
    "        self.linear_1 = Linear(self.hidden_channels, self.hidden_channels)\n",
    "        self.linear_2 = Linear(self.hidden_channels, self.num_classes)\n",
    "\n",
    "        # Paramteric PRelU\n",
    "        self.prelu_1 = torch.nn.PReLU()\n",
    "        self.prelu_2 = torch.nn.PReLU()\n",
    "        self.prelu_3 = torch.nn.PReLU()\n",
    "\n",
    "        # Regularization\n",
    "        p = 0.5\n",
    "        self.drop_out = torch.nn.Dropout(p=p)\n",
    "\n",
    "        # Batch Normalization\n",
    "        self.batch_norm_1 = torch.nn.BatchNorm1d(num_features=self.hidden_channels, track_running_stats=False, momentum=None)\n",
    "        self.batch_norm_2 = torch.nn.BatchNorm1d(num_features=self.hidden_channels, track_running_stats=False, momentum=None)\n",
    "        self.batch_norm_3 = torch.nn.BatchNorm1d(num_features=self.num_classes, track_running_stats=False, momentum=None)\n",
    "\n",
    "    def forward(self, x, edge_index, batch):\n",
    "\n",
    "        # 1.Conv block 1\n",
    "        x = self.conv1(x, edge_index)\n",
    "        x = self.prelu_1(x)\n",
    "        \n",
    "        # Feature pooling\n",
    "        x = global_max_pool(x, batch)  # --> [batch_size, hidden_channels]\n",
    "\n",
    "        # 3. Linearization\n",
    "        x = self.linear_1(x)\n",
    "        x = self.batch_norm_2(x)\n",
    "        x = self.prelu_2(x)\n",
    "\n",
    "        # 4. Logic outputs\n",
    "        x = self.linear_2(x)\n",
    "        x = self.batch_norm_3(x)\n",
    "        x = self.drop_out(x)\n",
    "        x = self.prelu_2(x)\n",
    "        return x\n"
   ]
  },
  {
   "cell_type": "code",
   "execution_count": 202,
   "metadata": {},
   "outputs": [
    {
     "name": "stdout",
     "output_type": "stream",
     "text": [
      "GCN(\n",
      "  (conv1): GCNConv(16, 16)\n",
      "  (linear_1): Linear(in_features=16, out_features=16, bias=True)\n",
      "  (linear_2): Linear(in_features=16, out_features=1, bias=True)\n",
      "  (prelu_1): PReLU(num_parameters=1)\n",
      "  (prelu_2): PReLU(num_parameters=1)\n",
      "  (prelu_3): PReLU(num_parameters=1)\n",
      "  (drop_out): Dropout(p=0.8, inplace=False)\n",
      "  (batch_norm_1): BatchNorm1d(16, eps=1e-05, momentum=None, affine=True, track_running_stats=False)\n",
      "  (batch_norm_2): BatchNorm1d(16, eps=1e-05, momentum=None, affine=True, track_running_stats=False)\n",
      "  (batch_norm_3): BatchNorm1d(1, eps=1e-05, momentum=None, affine=True, track_running_stats=False)\n",
      ")\n"
     ]
    }
   ],
   "source": [
    "# Build model\n",
    "model = GCN(hidden_channels=16)\n",
    "print(model)"
   ]
  },
  {
   "cell_type": "code",
   "execution_count": 203,
   "metadata": {},
   "outputs": [],
   "source": [
    "# Configs\n",
    "BATCH_SIZE = 50\n",
    "EPOCHS = 50\n",
    "LEARNING_RATE = 0.002\n",
    "\n",
    "# Optimizers & Criterion\n",
    "optimizer = torch.optim.Adam(model.parameters(), lr=LEARNING_RATE)\n",
    "criterion = torch.nn.BCEWithLogitsLoss()\n",
    "\n",
    "# Data-loaders\n",
    "train_loader = DataLoader(train_data, batch_size=BATCH_SIZE, shuffle=True)\n",
    "test_loader = DataLoader(test_data, batch_size=BATCH_SIZE, shuffle=False)\n",
    "all_loader  = DataLoader(balanced_graphs, batch_size=BATCH_SIZE, shuffle=False)\n"
   ]
  },
  {
   "cell_type": "code",
   "execution_count": 204,
   "metadata": {},
   "outputs": [
    {
     "name": "stdout",
     "output_type": "stream",
     "text": [
      "Beginning training!\n"
     ]
    },
    {
     "name": "stderr",
     "output_type": "stream",
     "text": [
      "  0%|          | 0/109 [00:00<?, ?it/s]/mnt/mnemo5/sum02dean/miniconda3/envs/pytorch/lib/python3.9/site-packages/torch/nn/functional.py:1795: UserWarning: nn.functional.tanh is deprecated. Use torch.tanh instead.\n",
      "  warnings.warn(\"nn.functional.tanh is deprecated. Use torch.tanh instead.\")\n",
      "100%|██████████| 109/109 [00:34<00:00,  3.16it/s]\n"
     ]
    },
    {
     "name": "stdout",
     "output_type": "stream",
     "text": [
      "78.54639250040054\n"
     ]
    },
    {
     "name": "stderr",
     "output_type": "stream",
     "text": [
      "100%|██████████| 109/109 [00:33<00:00,  3.21it/s]\n"
     ]
    },
    {
     "name": "stdout",
     "output_type": "stream",
     "text": [
      "78.4083297252655\n"
     ]
    },
    {
     "name": "stderr",
     "output_type": "stream",
     "text": [
      "100%|██████████| 109/109 [00:33<00:00,  3.23it/s]\n"
     ]
    },
    {
     "name": "stdout",
     "output_type": "stream",
     "text": [
      "78.05406045913696\n"
     ]
    },
    {
     "name": "stderr",
     "output_type": "stream",
     "text": [
      "100%|██████████| 109/109 [00:34<00:00,  3.17it/s]\n"
     ]
    },
    {
     "name": "stdout",
     "output_type": "stream",
     "text": [
      "78.14543759822845\n"
     ]
    },
    {
     "name": "stderr",
     "output_type": "stream",
     "text": [
      "100%|██████████| 109/109 [00:34<00:00,  3.17it/s]\n"
     ]
    },
    {
     "name": "stdout",
     "output_type": "stream",
     "text": [
      "78.33105111122131\n"
     ]
    },
    {
     "name": "stderr",
     "output_type": "stream",
     "text": [
      "100%|██████████| 109/109 [00:33<00:00,  3.21it/s]\n"
     ]
    },
    {
     "name": "stdout",
     "output_type": "stream",
     "text": [
      "78.51408588886261\n"
     ]
    },
    {
     "name": "stderr",
     "output_type": "stream",
     "text": [
      "100%|██████████| 109/109 [00:33<00:00,  3.22it/s]\n"
     ]
    },
    {
     "name": "stdout",
     "output_type": "stream",
     "text": [
      "78.35081654787064\n"
     ]
    },
    {
     "name": "stderr",
     "output_type": "stream",
     "text": [
      "100%|██████████| 109/109 [00:33<00:00,  3.23it/s]\n"
     ]
    },
    {
     "name": "stdout",
     "output_type": "stream",
     "text": [
      "78.335100710392\n"
     ]
    },
    {
     "name": "stderr",
     "output_type": "stream",
     "text": [
      "100%|██████████| 109/109 [00:34<00:00,  3.13it/s]\n"
     ]
    },
    {
     "name": "stdout",
     "output_type": "stream",
     "text": [
      "78.1021180152893\n"
     ]
    },
    {
     "name": "stderr",
     "output_type": "stream",
     "text": [
      "100%|██████████| 109/109 [00:37<00:00,  2.91it/s]\n"
     ]
    },
    {
     "name": "stdout",
     "output_type": "stream",
     "text": [
      "78.39201647043228\n"
     ]
    },
    {
     "name": "stderr",
     "output_type": "stream",
     "text": [
      "100%|██████████| 109/109 [00:41<00:00,  2.61it/s]\n"
     ]
    },
    {
     "name": "stdout",
     "output_type": "stream",
     "text": [
      "78.18025141954422\n"
     ]
    },
    {
     "name": "stderr",
     "output_type": "stream",
     "text": [
      "100%|██████████| 109/109 [00:42<00:00,  2.57it/s]\n"
     ]
    },
    {
     "name": "stdout",
     "output_type": "stream",
     "text": [
      "78.15710127353668\n"
     ]
    },
    {
     "name": "stderr",
     "output_type": "stream",
     "text": [
      "100%|██████████| 109/109 [00:36<00:00,  2.97it/s]\n"
     ]
    },
    {
     "name": "stdout",
     "output_type": "stream",
     "text": [
      "78.04002994298935\n"
     ]
    },
    {
     "name": "stderr",
     "output_type": "stream",
     "text": [
      "100%|██████████| 109/109 [00:40<00:00,  2.72it/s]\n"
     ]
    },
    {
     "name": "stdout",
     "output_type": "stream",
     "text": [
      "78.12321031093597\n"
     ]
    },
    {
     "name": "stderr",
     "output_type": "stream",
     "text": [
      "100%|██████████| 109/109 [00:37<00:00,  2.90it/s]\n"
     ]
    },
    {
     "name": "stdout",
     "output_type": "stream",
     "text": [
      "78.09819757938385\n"
     ]
    },
    {
     "name": "stderr",
     "output_type": "stream",
     "text": [
      "100%|██████████| 109/109 [00:38<00:00,  2.86it/s]\n"
     ]
    },
    {
     "name": "stdout",
     "output_type": "stream",
     "text": [
      "78.01706773042679\n"
     ]
    },
    {
     "name": "stderr",
     "output_type": "stream",
     "text": [
      "100%|██████████| 109/109 [00:35<00:00,  3.07it/s]\n"
     ]
    },
    {
     "name": "stdout",
     "output_type": "stream",
     "text": [
      "77.99423170089722\n"
     ]
    },
    {
     "name": "stderr",
     "output_type": "stream",
     "text": [
      "100%|██████████| 109/109 [00:35<00:00,  3.07it/s]\n"
     ]
    },
    {
     "name": "stdout",
     "output_type": "stream",
     "text": [
      "78.11325120925903\n"
     ]
    },
    {
     "name": "stderr",
     "output_type": "stream",
     "text": [
      "100%|██████████| 109/109 [00:33<00:00,  3.21it/s]\n"
     ]
    },
    {
     "name": "stdout",
     "output_type": "stream",
     "text": [
      "78.05429500341415\n"
     ]
    },
    {
     "name": "stderr",
     "output_type": "stream",
     "text": [
      "100%|██████████| 109/109 [00:39<00:00,  2.78it/s]\n"
     ]
    },
    {
     "name": "stdout",
     "output_type": "stream",
     "text": [
      "78.1416911482811\n"
     ]
    },
    {
     "name": "stderr",
     "output_type": "stream",
     "text": [
      "100%|██████████| 109/109 [00:35<00:00,  3.09it/s]\n"
     ]
    },
    {
     "name": "stdout",
     "output_type": "stream",
     "text": [
      "78.45173209905624\n"
     ]
    },
    {
     "name": "stderr",
     "output_type": "stream",
     "text": [
      "100%|██████████| 109/109 [00:35<00:00,  3.11it/s]\n"
     ]
    },
    {
     "name": "stdout",
     "output_type": "stream",
     "text": [
      "78.14942717552185\n"
     ]
    },
    {
     "name": "stderr",
     "output_type": "stream",
     "text": [
      "100%|██████████| 109/109 [00:35<00:00,  3.08it/s]\n"
     ]
    },
    {
     "name": "stdout",
     "output_type": "stream",
     "text": [
      "78.11808687448502\n"
     ]
    },
    {
     "name": "stderr",
     "output_type": "stream",
     "text": [
      "100%|██████████| 109/109 [00:34<00:00,  3.14it/s]\n"
     ]
    },
    {
     "name": "stdout",
     "output_type": "stream",
     "text": [
      "78.04617375135422\n"
     ]
    },
    {
     "name": "stderr",
     "output_type": "stream",
     "text": [
      "100%|██████████| 109/109 [00:35<00:00,  3.11it/s]\n"
     ]
    },
    {
     "name": "stdout",
     "output_type": "stream",
     "text": [
      "78.06484019756317\n"
     ]
    },
    {
     "name": "stderr",
     "output_type": "stream",
     "text": [
      "100%|██████████| 109/109 [00:35<00:00,  3.11it/s]\n"
     ]
    },
    {
     "name": "stdout",
     "output_type": "stream",
     "text": [
      "78.09763145446777\n"
     ]
    },
    {
     "name": "stderr",
     "output_type": "stream",
     "text": [
      "100%|██████████| 109/109 [00:35<00:00,  3.11it/s]\n"
     ]
    },
    {
     "name": "stdout",
     "output_type": "stream",
     "text": [
      "78.2158722281456\n"
     ]
    },
    {
     "name": "stderr",
     "output_type": "stream",
     "text": [
      "100%|██████████| 109/109 [00:34<00:00,  3.12it/s]\n"
     ]
    },
    {
     "name": "stdout",
     "output_type": "stream",
     "text": [
      "78.00571143627167\n"
     ]
    },
    {
     "name": "stderr",
     "output_type": "stream",
     "text": [
      "100%|██████████| 109/109 [00:35<00:00,  3.10it/s]\n"
     ]
    },
    {
     "name": "stdout",
     "output_type": "stream",
     "text": [
      "78.08367770910263\n"
     ]
    },
    {
     "name": "stderr",
     "output_type": "stream",
     "text": [
      " 69%|██████▉   | 75/109 [00:24<00:10,  3.12it/s]\n"
     ]
    },
    {
     "ename": "KeyboardInterrupt",
     "evalue": "",
     "output_type": "error",
     "traceback": [
      "\u001b[0;31m---------------------------------------------------------------------------\u001b[0m",
      "\u001b[0;31mKeyboardInterrupt\u001b[0m                         Traceback (most recent call last)",
      "\u001b[1;32m/mnt/mnemo5/sum02dean/sl_projects/GCN/GCN-STRING/src/notebooks/GCN.ipynb Cell 13'\u001b[0m in \u001b[0;36m<cell line: 6>\u001b[0;34m()\u001b[0m\n\u001b[1;32m     <a href='vscode-notebook-cell://ssh-remote%2Blphobos/mnt/mnemo5/sum02dean/sl_projects/GCN/GCN-STRING/src/notebooks/GCN.ipynb#ch0000014vscode-remote?line=14'>15</a>\u001b[0m optimizer\u001b[39m.\u001b[39mzero_grad()  \n\u001b[1;32m     <a href='vscode-notebook-cell://ssh-remote%2Blphobos/mnt/mnemo5/sum02dean/sl_projects/GCN/GCN-STRING/src/notebooks/GCN.ipynb#ch0000014vscode-remote?line=16'>17</a>\u001b[0m \u001b[39m# Compute model outputs\u001b[39;00m\n\u001b[0;32m---> <a href='vscode-notebook-cell://ssh-remote%2Blphobos/mnt/mnemo5/sum02dean/sl_projects/GCN/GCN-STRING/src/notebooks/GCN.ipynb#ch0000014vscode-remote?line=17'>18</a>\u001b[0m logits \u001b[39m=\u001b[39m model(X, EI, B)\u001b[39m.\u001b[39mflatten()\n\u001b[1;32m     <a href='vscode-notebook-cell://ssh-remote%2Blphobos/mnt/mnemo5/sum02dean/sl_projects/GCN/GCN-STRING/src/notebooks/GCN.ipynb#ch0000014vscode-remote?line=18'>19</a>\u001b[0m probas \u001b[39m=\u001b[39m torch\u001b[39m.\u001b[39msigmoid(logits)\n\u001b[1;32m     <a href='vscode-notebook-cell://ssh-remote%2Blphobos/mnt/mnemo5/sum02dean/sl_projects/GCN/GCN-STRING/src/notebooks/GCN.ipynb#ch0000014vscode-remote?line=20'>21</a>\u001b[0m \u001b[39m# Grab the loss and step gradients\u001b[39;00m\n",
      "File \u001b[0;32m~/miniconda3/envs/pytorch/lib/python3.9/site-packages/torch/nn/modules/module.py:1102\u001b[0m, in \u001b[0;36mModule._call_impl\u001b[0;34m(self, *input, **kwargs)\u001b[0m\n\u001b[1;32m   <a href='file:///~/miniconda3/envs/pytorch/lib/python3.9/site-packages/torch/nn/modules/module.py?line=1097'>1098</a>\u001b[0m \u001b[39m# If we don't have any hooks, we want to skip the rest of the logic in\u001b[39;00m\n\u001b[1;32m   <a href='file:///~/miniconda3/envs/pytorch/lib/python3.9/site-packages/torch/nn/modules/module.py?line=1098'>1099</a>\u001b[0m \u001b[39m# this function, and just call forward.\u001b[39;00m\n\u001b[1;32m   <a href='file:///~/miniconda3/envs/pytorch/lib/python3.9/site-packages/torch/nn/modules/module.py?line=1099'>1100</a>\u001b[0m \u001b[39mif\u001b[39;00m \u001b[39mnot\u001b[39;00m (\u001b[39mself\u001b[39m\u001b[39m.\u001b[39m_backward_hooks \u001b[39mor\u001b[39;00m \u001b[39mself\u001b[39m\u001b[39m.\u001b[39m_forward_hooks \u001b[39mor\u001b[39;00m \u001b[39mself\u001b[39m\u001b[39m.\u001b[39m_forward_pre_hooks \u001b[39mor\u001b[39;00m _global_backward_hooks\n\u001b[1;32m   <a href='file:///~/miniconda3/envs/pytorch/lib/python3.9/site-packages/torch/nn/modules/module.py?line=1100'>1101</a>\u001b[0m         \u001b[39mor\u001b[39;00m _global_forward_hooks \u001b[39mor\u001b[39;00m _global_forward_pre_hooks):\n\u001b[0;32m-> <a href='file:///~/miniconda3/envs/pytorch/lib/python3.9/site-packages/torch/nn/modules/module.py?line=1101'>1102</a>\u001b[0m     \u001b[39mreturn\u001b[39;00m forward_call(\u001b[39m*\u001b[39;49m\u001b[39minput\u001b[39;49m, \u001b[39m*\u001b[39;49m\u001b[39m*\u001b[39;49mkwargs)\n\u001b[1;32m   <a href='file:///~/miniconda3/envs/pytorch/lib/python3.9/site-packages/torch/nn/modules/module.py?line=1102'>1103</a>\u001b[0m \u001b[39m# Do not call functions when jit is used\u001b[39;00m\n\u001b[1;32m   <a href='file:///~/miniconda3/envs/pytorch/lib/python3.9/site-packages/torch/nn/modules/module.py?line=1103'>1104</a>\u001b[0m full_backward_hooks, non_full_backward_hooks \u001b[39m=\u001b[39m [], []\n",
      "\u001b[1;32m/mnt/mnemo5/sum02dean/sl_projects/GCN/GCN-STRING/src/notebooks/GCN.ipynb Cell 10'\u001b[0m in \u001b[0;36mGCN.forward\u001b[0;34m(self, x, edge_index, batch)\u001b[0m\n\u001b[1;32m     <a href='vscode-notebook-cell://ssh-remote%2Blphobos/mnt/mnemo5/sum02dean/sl_projects/GCN/GCN-STRING/src/notebooks/GCN.ipynb#ch0000011vscode-remote?line=33'>34</a>\u001b[0m \u001b[39mdef\u001b[39;00m \u001b[39mforward\u001b[39m(\u001b[39mself\u001b[39m, x, edge_index, batch):\n\u001b[1;32m     <a href='vscode-notebook-cell://ssh-remote%2Blphobos/mnt/mnemo5/sum02dean/sl_projects/GCN/GCN-STRING/src/notebooks/GCN.ipynb#ch0000011vscode-remote?line=34'>35</a>\u001b[0m \n\u001b[1;32m     <a href='vscode-notebook-cell://ssh-remote%2Blphobos/mnt/mnemo5/sum02dean/sl_projects/GCN/GCN-STRING/src/notebooks/GCN.ipynb#ch0000011vscode-remote?line=35'>36</a>\u001b[0m     \u001b[39m# 1.Conv block 1\u001b[39;00m\n\u001b[0;32m---> <a href='vscode-notebook-cell://ssh-remote%2Blphobos/mnt/mnemo5/sum02dean/sl_projects/GCN/GCN-STRING/src/notebooks/GCN.ipynb#ch0000011vscode-remote?line=36'>37</a>\u001b[0m     x \u001b[39m=\u001b[39m \u001b[39mself\u001b[39;49m\u001b[39m.\u001b[39;49mconv1(x, edge_index)\n\u001b[1;32m     <a href='vscode-notebook-cell://ssh-remote%2Blphobos/mnt/mnemo5/sum02dean/sl_projects/GCN/GCN-STRING/src/notebooks/GCN.ipynb#ch0000011vscode-remote?line=37'>38</a>\u001b[0m     x \u001b[39m=\u001b[39m F\u001b[39m.\u001b[39mtanh(x)\n\u001b[1;32m     <a href='vscode-notebook-cell://ssh-remote%2Blphobos/mnt/mnemo5/sum02dean/sl_projects/GCN/GCN-STRING/src/notebooks/GCN.ipynb#ch0000011vscode-remote?line=39'>40</a>\u001b[0m     \u001b[39m# Feature pooling\u001b[39;00m\n",
      "File \u001b[0;32m~/miniconda3/envs/pytorch/lib/python3.9/site-packages/torch/nn/modules/module.py:1102\u001b[0m, in \u001b[0;36mModule._call_impl\u001b[0;34m(self, *input, **kwargs)\u001b[0m\n\u001b[1;32m   <a href='file:///~/miniconda3/envs/pytorch/lib/python3.9/site-packages/torch/nn/modules/module.py?line=1097'>1098</a>\u001b[0m \u001b[39m# If we don't have any hooks, we want to skip the rest of the logic in\u001b[39;00m\n\u001b[1;32m   <a href='file:///~/miniconda3/envs/pytorch/lib/python3.9/site-packages/torch/nn/modules/module.py?line=1098'>1099</a>\u001b[0m \u001b[39m# this function, and just call forward.\u001b[39;00m\n\u001b[1;32m   <a href='file:///~/miniconda3/envs/pytorch/lib/python3.9/site-packages/torch/nn/modules/module.py?line=1099'>1100</a>\u001b[0m \u001b[39mif\u001b[39;00m \u001b[39mnot\u001b[39;00m (\u001b[39mself\u001b[39m\u001b[39m.\u001b[39m_backward_hooks \u001b[39mor\u001b[39;00m \u001b[39mself\u001b[39m\u001b[39m.\u001b[39m_forward_hooks \u001b[39mor\u001b[39;00m \u001b[39mself\u001b[39m\u001b[39m.\u001b[39m_forward_pre_hooks \u001b[39mor\u001b[39;00m _global_backward_hooks\n\u001b[1;32m   <a href='file:///~/miniconda3/envs/pytorch/lib/python3.9/site-packages/torch/nn/modules/module.py?line=1100'>1101</a>\u001b[0m         \u001b[39mor\u001b[39;00m _global_forward_hooks \u001b[39mor\u001b[39;00m _global_forward_pre_hooks):\n\u001b[0;32m-> <a href='file:///~/miniconda3/envs/pytorch/lib/python3.9/site-packages/torch/nn/modules/module.py?line=1101'>1102</a>\u001b[0m     \u001b[39mreturn\u001b[39;00m forward_call(\u001b[39m*\u001b[39;49m\u001b[39minput\u001b[39;49m, \u001b[39m*\u001b[39;49m\u001b[39m*\u001b[39;49mkwargs)\n\u001b[1;32m   <a href='file:///~/miniconda3/envs/pytorch/lib/python3.9/site-packages/torch/nn/modules/module.py?line=1102'>1103</a>\u001b[0m \u001b[39m# Do not call functions when jit is used\u001b[39;00m\n\u001b[1;32m   <a href='file:///~/miniconda3/envs/pytorch/lib/python3.9/site-packages/torch/nn/modules/module.py?line=1103'>1104</a>\u001b[0m full_backward_hooks, non_full_backward_hooks \u001b[39m=\u001b[39m [], []\n",
      "File \u001b[0;32m~/miniconda3/envs/pytorch/lib/python3.9/site-packages/torch_geometric/nn/conv/gcn_conv.py:185\u001b[0m, in \u001b[0;36mGCNConv.forward\u001b[0;34m(self, x, edge_index, edge_weight)\u001b[0m\n\u001b[1;32m    <a href='file:///~/miniconda3/envs/pytorch/lib/python3.9/site-packages/torch_geometric/nn/conv/gcn_conv.py?line=181'>182</a>\u001b[0m x \u001b[39m=\u001b[39m \u001b[39mself\u001b[39m\u001b[39m.\u001b[39mlin(x)\n\u001b[1;32m    <a href='file:///~/miniconda3/envs/pytorch/lib/python3.9/site-packages/torch_geometric/nn/conv/gcn_conv.py?line=183'>184</a>\u001b[0m \u001b[39m# propagate_type: (x: Tensor, edge_weight: OptTensor)\u001b[39;00m\n\u001b[0;32m--> <a href='file:///~/miniconda3/envs/pytorch/lib/python3.9/site-packages/torch_geometric/nn/conv/gcn_conv.py?line=184'>185</a>\u001b[0m out \u001b[39m=\u001b[39m \u001b[39mself\u001b[39;49m\u001b[39m.\u001b[39;49mpropagate(edge_index, x\u001b[39m=\u001b[39;49mx, edge_weight\u001b[39m=\u001b[39;49medge_weight,\n\u001b[1;32m    <a href='file:///~/miniconda3/envs/pytorch/lib/python3.9/site-packages/torch_geometric/nn/conv/gcn_conv.py?line=185'>186</a>\u001b[0m                      size\u001b[39m=\u001b[39;49m\u001b[39mNone\u001b[39;49;00m)\n\u001b[1;32m    <a href='file:///~/miniconda3/envs/pytorch/lib/python3.9/site-packages/torch_geometric/nn/conv/gcn_conv.py?line=187'>188</a>\u001b[0m \u001b[39mif\u001b[39;00m \u001b[39mself\u001b[39m\u001b[39m.\u001b[39mbias \u001b[39mis\u001b[39;00m \u001b[39mnot\u001b[39;00m \u001b[39mNone\u001b[39;00m:\n\u001b[1;32m    <a href='file:///~/miniconda3/envs/pytorch/lib/python3.9/site-packages/torch_geometric/nn/conv/gcn_conv.py?line=188'>189</a>\u001b[0m     out \u001b[39m+\u001b[39m\u001b[39m=\u001b[39m \u001b[39mself\u001b[39m\u001b[39m.\u001b[39mbias\n",
      "File \u001b[0;32m~/miniconda3/envs/pytorch/lib/python3.9/site-packages/torch_geometric/nn/conv/message_passing.py:342\u001b[0m, in \u001b[0;36mMessagePassing.propagate\u001b[0;34m(self, edge_index, size, **kwargs)\u001b[0m\n\u001b[1;32m    <a href='file:///~/miniconda3/envs/pytorch/lib/python3.9/site-packages/torch_geometric/nn/conv/message_passing.py?line=339'>340</a>\u001b[0m     \u001b[39mif\u001b[39;00m res \u001b[39mis\u001b[39;00m \u001b[39mnot\u001b[39;00m \u001b[39mNone\u001b[39;00m:\n\u001b[1;32m    <a href='file:///~/miniconda3/envs/pytorch/lib/python3.9/site-packages/torch_geometric/nn/conv/message_passing.py?line=340'>341</a>\u001b[0m         aggr_kwargs \u001b[39m=\u001b[39m res[\u001b[39m0\u001b[39m] \u001b[39mif\u001b[39;00m \u001b[39misinstance\u001b[39m(res, \u001b[39mtuple\u001b[39m) \u001b[39melse\u001b[39;00m res\n\u001b[0;32m--> <a href='file:///~/miniconda3/envs/pytorch/lib/python3.9/site-packages/torch_geometric/nn/conv/message_passing.py?line=341'>342</a>\u001b[0m out \u001b[39m=\u001b[39m \u001b[39mself\u001b[39;49m\u001b[39m.\u001b[39;49maggregate(out, \u001b[39m*\u001b[39;49m\u001b[39m*\u001b[39;49maggr_kwargs)\n\u001b[1;32m    <a href='file:///~/miniconda3/envs/pytorch/lib/python3.9/site-packages/torch_geometric/nn/conv/message_passing.py?line=342'>343</a>\u001b[0m \u001b[39mfor\u001b[39;00m hook \u001b[39min\u001b[39;00m \u001b[39mself\u001b[39m\u001b[39m.\u001b[39m_aggregate_forward_hooks\u001b[39m.\u001b[39mvalues():\n\u001b[1;32m    <a href='file:///~/miniconda3/envs/pytorch/lib/python3.9/site-packages/torch_geometric/nn/conv/message_passing.py?line=343'>344</a>\u001b[0m     res \u001b[39m=\u001b[39m hook(\u001b[39mself\u001b[39m, (aggr_kwargs, ), out)\n",
      "File \u001b[0;32m~/miniconda3/envs/pytorch/lib/python3.9/site-packages/torch_geometric/nn/conv/message_passing.py:425\u001b[0m, in \u001b[0;36mMessagePassing.aggregate\u001b[0;34m(self, inputs, index, ptr, dim_size)\u001b[0m\n\u001b[1;32m    <a href='file:///~/miniconda3/envs/pytorch/lib/python3.9/site-packages/torch_geometric/nn/conv/message_passing.py?line=422'>423</a>\u001b[0m     \u001b[39mreturn\u001b[39;00m segment_csr(inputs, ptr, reduce\u001b[39m=\u001b[39m\u001b[39mself\u001b[39m\u001b[39m.\u001b[39maggr)\n\u001b[1;32m    <a href='file:///~/miniconda3/envs/pytorch/lib/python3.9/site-packages/torch_geometric/nn/conv/message_passing.py?line=423'>424</a>\u001b[0m \u001b[39melse\u001b[39;00m:\n\u001b[0;32m--> <a href='file:///~/miniconda3/envs/pytorch/lib/python3.9/site-packages/torch_geometric/nn/conv/message_passing.py?line=424'>425</a>\u001b[0m     \u001b[39mreturn\u001b[39;00m scatter(inputs, index, dim\u001b[39m=\u001b[39;49m\u001b[39mself\u001b[39;49m\u001b[39m.\u001b[39;49mnode_dim, dim_size\u001b[39m=\u001b[39;49mdim_size,\n\u001b[1;32m    <a href='file:///~/miniconda3/envs/pytorch/lib/python3.9/site-packages/torch_geometric/nn/conv/message_passing.py?line=425'>426</a>\u001b[0m                    reduce\u001b[39m=\u001b[39;49m\u001b[39mself\u001b[39;49m\u001b[39m.\u001b[39;49maggr)\n",
      "File \u001b[0;32m~/miniconda3/envs/pytorch/lib/python3.9/site-packages/torch_scatter/scatter.py:152\u001b[0m, in \u001b[0;36mscatter\u001b[0;34m(src, index, dim, out, dim_size, reduce)\u001b[0m\n\u001b[1;32m     <a href='file:///~/miniconda3/envs/pytorch/lib/python3.9/site-packages/torch_scatter/scatter.py?line=77'>78</a>\u001b[0m \u001b[39mr\u001b[39m\u001b[39m\"\"\"\u001b[39;00m\n\u001b[1;32m     <a href='file:///~/miniconda3/envs/pytorch/lib/python3.9/site-packages/torch_scatter/scatter.py?line=78'>79</a>\u001b[0m \u001b[39m|\u001b[39;00m\n\u001b[1;32m     <a href='file:///~/miniconda3/envs/pytorch/lib/python3.9/site-packages/torch_scatter/scatter.py?line=79'>80</a>\u001b[0m \n\u001b[0;32m   (...)\u001b[0m\n\u001b[1;32m    <a href='file:///~/miniconda3/envs/pytorch/lib/python3.9/site-packages/torch_scatter/scatter.py?line=148'>149</a>\u001b[0m \u001b[39m    torch.Size([10, 3, 64])\u001b[39;00m\n\u001b[1;32m    <a href='file:///~/miniconda3/envs/pytorch/lib/python3.9/site-packages/torch_scatter/scatter.py?line=149'>150</a>\u001b[0m \u001b[39m\"\"\"\u001b[39;00m\n\u001b[1;32m    <a href='file:///~/miniconda3/envs/pytorch/lib/python3.9/site-packages/torch_scatter/scatter.py?line=150'>151</a>\u001b[0m \u001b[39mif\u001b[39;00m reduce \u001b[39m==\u001b[39m \u001b[39m'\u001b[39m\u001b[39msum\u001b[39m\u001b[39m'\u001b[39m \u001b[39mor\u001b[39;00m reduce \u001b[39m==\u001b[39m \u001b[39m'\u001b[39m\u001b[39madd\u001b[39m\u001b[39m'\u001b[39m:\n\u001b[0;32m--> <a href='file:///~/miniconda3/envs/pytorch/lib/python3.9/site-packages/torch_scatter/scatter.py?line=151'>152</a>\u001b[0m     \u001b[39mreturn\u001b[39;00m scatter_sum(src, index, dim, out, dim_size)\n\u001b[1;32m    <a href='file:///~/miniconda3/envs/pytorch/lib/python3.9/site-packages/torch_scatter/scatter.py?line=152'>153</a>\u001b[0m \u001b[39mif\u001b[39;00m reduce \u001b[39m==\u001b[39m \u001b[39m'\u001b[39m\u001b[39mmul\u001b[39m\u001b[39m'\u001b[39m:\n\u001b[1;32m    <a href='file:///~/miniconda3/envs/pytorch/lib/python3.9/site-packages/torch_scatter/scatter.py?line=153'>154</a>\u001b[0m     \u001b[39mreturn\u001b[39;00m scatter_mul(src, index, dim, out, dim_size)\n",
      "File \u001b[0;32m~/miniconda3/envs/pytorch/lib/python3.9/site-packages/torch_scatter/scatter.py:21\u001b[0m, in \u001b[0;36mscatter_sum\u001b[0;34m(src, index, dim, out, dim_size)\u001b[0m\n\u001b[1;32m     <a href='file:///~/miniconda3/envs/pytorch/lib/python3.9/site-packages/torch_scatter/scatter.py?line=18'>19</a>\u001b[0m         size[dim] \u001b[39m=\u001b[39m \u001b[39mint\u001b[39m(index\u001b[39m.\u001b[39mmax()) \u001b[39m+\u001b[39m \u001b[39m1\u001b[39m\n\u001b[1;32m     <a href='file:///~/miniconda3/envs/pytorch/lib/python3.9/site-packages/torch_scatter/scatter.py?line=19'>20</a>\u001b[0m     out \u001b[39m=\u001b[39m torch\u001b[39m.\u001b[39mzeros(size, dtype\u001b[39m=\u001b[39msrc\u001b[39m.\u001b[39mdtype, device\u001b[39m=\u001b[39msrc\u001b[39m.\u001b[39mdevice)\n\u001b[0;32m---> <a href='file:///~/miniconda3/envs/pytorch/lib/python3.9/site-packages/torch_scatter/scatter.py?line=20'>21</a>\u001b[0m     \u001b[39mreturn\u001b[39;00m out\u001b[39m.\u001b[39;49mscatter_add_(dim, index, src)\n\u001b[1;32m     <a href='file:///~/miniconda3/envs/pytorch/lib/python3.9/site-packages/torch_scatter/scatter.py?line=21'>22</a>\u001b[0m \u001b[39melse\u001b[39;00m:\n\u001b[1;32m     <a href='file:///~/miniconda3/envs/pytorch/lib/python3.9/site-packages/torch_scatter/scatter.py?line=22'>23</a>\u001b[0m     \u001b[39mreturn\u001b[39;00m out\u001b[39m.\u001b[39mscatter_add_(dim, index, src)\n",
      "\u001b[0;31mKeyboardInterrupt\u001b[0m: "
     ]
    }
   ],
   "source": [
    "# Train loop\n",
    "print(\"Begining training!\")\n",
    "model.train()\n",
    "model = model.double()\n",
    "\n",
    "for epoch in range(EPOCHS):\n",
    "    epoch_loss = 0\n",
    "    for data in tqdm(train_loader): \n",
    "\n",
    "        # Grab inputs\n",
    "        X, Y, EI  = data.x, data.y, data.edge_index\n",
    "        B = data.batch\n",
    "        \n",
    "        # Zero the gradient\n",
    "        optimizer.zero_grad()  \n",
    "\n",
    "        # Compute model outputs\n",
    "        logits = model(X, EI, B).flatten()\n",
    "        probas = torch.sigmoid(logits)\n",
    "\n",
    "        # Grab the loss and step gradients\n",
    "        loss = criterion(probas, Y)  \n",
    "        epoch_loss += loss.item() \n",
    "\n",
    "        # Backpropogate the loss\n",
    "        loss.backward() \n",
    "        optimizer.step()  \n",
    "    \n",
    "    # Print the epochs\n",
    "    print(epoch_loss)\n",
    "\n",
    "\n"
   ]
  },
  {
   "cell_type": "code",
   "execution_count": 205,
   "metadata": {},
   "outputs": [
    {
     "name": "stderr",
     "output_type": "stream",
     "text": [
      "100%|██████████| 109/109 [00:15<00:00,  6.89it/s]\n"
     ]
    },
    {
     "data": {
      "image/png": "[encoded data removed]",
      "text/plain": [
       "<Figure size 640x480 with 1 Axes>"
      ]
     },
     "metadata": {},
     "output_type": "display_data"
    }
   ],
   "source": [
    "predictions = []\n",
    "probabilities = []\n",
    "truths = []\n",
    "\n",
    "# Loadder names: train_loader, test_loader, all_loader\n",
    "model.eval()\n",
    "with torch.no_grad():\n",
    "    for data in tqdm(train_loader): \n",
    "        \n",
    "        # Grab inputs\n",
    "        X, Y, EI  = data.x, data.y, data.edge_index\n",
    "        B = data.batch\n",
    "\n",
    "        # # Compute preds\n",
    "        logits = model(X, EI, B).flatten()\n",
    "        acc, pred, probas = binary_acc(logits, Y)\n",
    "\n",
    "        # Append data\n",
    "        predictions.append(pred)\n",
    "        probabilities.append(probas)\n",
    "        truths.append(Y)\n",
    "\n",
    "# Format\n",
    "p = np.hstack(predictions)\n",
    "t = np.hstack(truths)\n",
    "prob = np.array(torch.concat(probabilities))\n",
    "\n",
    "# AUC/ROC\n",
    "fpr, tpr, _ = roc_curve(t, prob)\n",
    "roc_auc = auc(fpr, tpr)\n",
    "\n",
    "# Plotting\n",
    "plt.figure()\n",
    "lw = 0.8\n",
    "plt.plot(fpr, tpr, \"r--\", lw=lw, label=\"ROC curve (area = %0.2f)\" % roc_auc)\n",
    "plt.plot([0, 1], [0, 1], color=\"navy\", lw=lw, linestyle=\"--\")\n",
    "plt.xlim([0.0, 1.0])\n",
    "plt.ylim([0.0, 1.05])\n",
    "plt.xlabel(\"False Positive Rate\")\n",
    "plt.ylabel(\"True Positive Rate\")\n",
    "plt.title(\"Receiver operating characteristic example for GCN\")\n",
    "plt.legend(loc=\"lower right\")\n",
    "plt.show()\n",
    "plt.show()\n"
   ]
  },
  {
   "cell_type": "code",
   "execution_count": 197,
   "metadata": {},
   "outputs": [],
   "source": [
    "x_train = []\n",
    "for data in train_loader:\n",
    "    X, Y, EI, B = data.x, data.y, data.edge_index, data.batch\n",
    "    x_train.append(X)\n",
    "x_train = pd.DataFrame(np.vstack(x_train))\n"
   ]
  },
  {
   "cell_type": "code",
   "execution_count": 198,
   "metadata": {},
   "outputs": [],
   "source": [
    "x_test = []\n",
    "for data in test_loader:\n",
    "    X, Y, EI, B = data.x, data.y, data.edge_index, data.batch\n",
    "    x_test.append(X)\n",
    "x_test = pd.DataFrame(np.vstack(x_test))"
   ]
  },
  {
   "cell_type": "code",
   "execution_count": 200,
   "metadata": {},
   "outputs": [],
   "source": [
    "# for i in range(np.shape(x_train)[1]):\n",
    "#     sns.histplot(x_train[i].values, bins=50)\n",
    "#     sns.histplot(x_test[i].values, bins=50)\n",
    "#     plt.show()"
   ]
  },
  {
   "cell_type": "code",
   "execution_count": null,
   "metadata": {},
   "outputs": [],
   "source": []
  }
 ],
 "metadata": {
  "interpreter": {
   "hash": "91480398e29c201d85f830141776dbac7675dbf1ea4e71a85e6e607707f70528"
  },
  "kernelspec": {
   "display_name": "pytorch",
   "language": "python",
   "name": "python3"
  },
  "language_info": {
   "codemirror_mode": {
    "name": "ipython",
    "version": 3
   },
   "file_extension": ".py",
   "mimetype": "text/x-python",
   "name": "python",
   "nbconvert_exporter": "python",
   "pygments_lexer": "ipython3",
   "version": "3.9.10"
  }
 },
 "nbformat": 4,
 "nbformat_minor": 4
}
