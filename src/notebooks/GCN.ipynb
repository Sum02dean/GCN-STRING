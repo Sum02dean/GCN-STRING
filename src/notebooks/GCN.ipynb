{
 "cells": [
  {
   "cell_type": "code",
   "execution_count": 1,
   "metadata": {},
   "outputs": [],
   "source": [
    "import os\n",
    "sys.path.append(\"../\")\n",
    "import sys\n",
    "from utilities.gcn_utills import *\n",
    "import torch\n",
    "import pickle\n",
    "import matplotlib.pyplot as plt\n",
    "import numpy as np\n",
    "import math\n",
    "import random\n",
    "import networkx as nx\n",
    "import glob\n",
    "import pandas as pd\n",
    "import scipy \n",
    "import torch\n",
    "import torch.nn.functional as F\n",
    "from tqdm import tqdm\n",
    "from torch_geometric.utils import convert\n",
    "from torch_geometric.data import InMemoryDataset, download_url, Data\n",
    "from torch_geometric.loader import DataLoader\n",
    "from torch.nn import Linear\n",
    "from torch_geometric.nn import GCNConv\n",
    "from torch_geometric.nn import global_mean_pool, global_max_pool\n",
    "\n",
    "from sklearn.metrics import roc_curve, auc\n",
    "from sklearn.model_selection import train_test_split\n",
    "from sklearn.preprocessing import label_binarize\n",
    "from sklearn.multiclass import OneVsRestClassifier\n",
    "from sklearn.metrics import roc_auc_score\n"
   ]
  },
  {
   "cell_type": "code",
   "execution_count": 2,
   "metadata": {},
   "outputs": [],
   "source": [
    "# Load in label by name\n",
    "def get_label(file, labels):\n",
    "    pair_1 = file.split('/')[-1]\n",
    "    pair_1, pair_2 = pair_1.split(\"and\")\n",
    "    pair_1 = pair_1.replace(\".gpickle\", \"\")\n",
    "    pair_2 = pair_2.replace(\".gpickle\", \"\")\n",
    "    l = int(labels.loc[(labels.protein_1 == pair_1) & (labels.protein_2 == pair_2)].label)\n",
    "    return file, l\n",
    "\n",
    "def read_graphs(file_set):\n",
    "    g_list = []\n",
    "    for i, file in enumerate(file_set):\n",
    "        G = nx.read_gpickle(file)\n",
    "        g_list.append(G)\n",
    "    return g_list\n",
    "    \n",
    "def format_graphs(graphs, label=1):\n",
    "    graph_list = []\n",
    "    # Convert into pytorch geoetric dataset: Positive\n",
    "    for i, x in enumerate(tqdm(graphs)):\n",
    "        F = nx.convert_node_labels_to_integers(x)\n",
    "        for (n1, n2, d) in F.edges(data=True):\n",
    "            d.clear()\n",
    "        data = convert.from_networkx(F, group_edge_attrs=None)\n",
    "        data.y = torch.FloatTensor(np.array([label]))\n",
    "        graph_list.append(data)\n",
    "    return graph_list\n",
    "\n",
    "def binary_acc(y_pred, y_test):\n",
    "    probas = torch.sigmoid(y_pred)\n",
    "    y_pred_tag = torch.round(torch.sigmoid(y_pred))\n",
    "    correct_results_sum = (y_pred_tag == y_test).sum().float()\n",
    "    acc = correct_results_sum/y_test.shape[0]\n",
    "    acc = torch.round(acc * 100)\n",
    "    return acc, y_pred_tag, probas"
   ]
  },
  {
   "cell_type": "code",
   "execution_count": 3,
   "metadata": {},
   "outputs": [
    {
     "ename": "KeyboardInterrupt",
     "evalue": "",
     "output_type": "error",
     "traceback": [
      "\u001b[0;31m---------------------------------------------------------------------------\u001b[0m",
      "\u001b[0;31mKeyboardInterrupt\u001b[0m                         Traceback (most recent call last)",
      "\u001b[1;32m/mnt/mnemo5/sum02dean/sl_projects/GCN/GCN-STRING/src/notebooks/GCN.ipynb Cell 3'\u001b[0m in \u001b[0;36m<cell line: 16>\u001b[0;34m()\u001b[0m\n\u001b[1;32m     <a href='vscode-notebook-cell://ssh-remote%2Blphobos/mnt/mnemo5/sum02dean/sl_projects/GCN/GCN-STRING/src/notebooks/GCN.ipynb#ch0000002vscode-remote?line=13'>14</a>\u001b[0m neg_labels \u001b[39m=\u001b[39m []\n\u001b[1;32m     <a href='vscode-notebook-cell://ssh-remote%2Blphobos/mnt/mnemo5/sum02dean/sl_projects/GCN/GCN-STRING/src/notebooks/GCN.ipynb#ch0000002vscode-remote?line=15'>16</a>\u001b[0m \u001b[39mfor\u001b[39;00m i, file \u001b[39min\u001b[39;00m \u001b[39menumerate\u001b[39m(graph_files):\n\u001b[0;32m---> <a href='vscode-notebook-cell://ssh-remote%2Blphobos/mnt/mnemo5/sum02dean/sl_projects/GCN/GCN-STRING/src/notebooks/GCN.ipynb#ch0000002vscode-remote?line=16'>17</a>\u001b[0m     obs, label \u001b[39m=\u001b[39m get_label(file, graph_labels)\n\u001b[1;32m     <a href='vscode-notebook-cell://ssh-remote%2Blphobos/mnt/mnemo5/sum02dean/sl_projects/GCN/GCN-STRING/src/notebooks/GCN.ipynb#ch0000002vscode-remote?line=18'>19</a>\u001b[0m     \u001b[39mif\u001b[39;00m label \u001b[39m==\u001b[39m \u001b[39m1\u001b[39m:\n\u001b[1;32m     <a href='vscode-notebook-cell://ssh-remote%2Blphobos/mnt/mnemo5/sum02dean/sl_projects/GCN/GCN-STRING/src/notebooks/GCN.ipynb#ch0000002vscode-remote?line=19'>20</a>\u001b[0m         positives\u001b[39m.\u001b[39mappend(obs)\n",
      "\u001b[1;32m/mnt/mnemo5/sum02dean/sl_projects/GCN/GCN-STRING/src/notebooks/GCN.ipynb Cell 2'\u001b[0m in \u001b[0;36mget_label\u001b[0;34m(file, labels)\u001b[0m\n\u001b[1;32m      <a href='vscode-notebook-cell://ssh-remote%2Blphobos/mnt/mnemo5/sum02dean/sl_projects/GCN/GCN-STRING/src/notebooks/GCN.ipynb#ch0000001vscode-remote?line=4'>5</a>\u001b[0m pair_1 \u001b[39m=\u001b[39m pair_1\u001b[39m.\u001b[39mreplace(\u001b[39m\"\u001b[39m\u001b[39m.gpickle\u001b[39m\u001b[39m\"\u001b[39m, \u001b[39m\"\u001b[39m\u001b[39m\"\u001b[39m)\n\u001b[1;32m      <a href='vscode-notebook-cell://ssh-remote%2Blphobos/mnt/mnemo5/sum02dean/sl_projects/GCN/GCN-STRING/src/notebooks/GCN.ipynb#ch0000001vscode-remote?line=5'>6</a>\u001b[0m pair_2 \u001b[39m=\u001b[39m pair_2\u001b[39m.\u001b[39mreplace(\u001b[39m\"\u001b[39m\u001b[39m.gpickle\u001b[39m\u001b[39m\"\u001b[39m, \u001b[39m\"\u001b[39m\u001b[39m\"\u001b[39m)\n\u001b[0;32m----> <a href='vscode-notebook-cell://ssh-remote%2Blphobos/mnt/mnemo5/sum02dean/sl_projects/GCN/GCN-STRING/src/notebooks/GCN.ipynb#ch0000001vscode-remote?line=6'>7</a>\u001b[0m l \u001b[39m=\u001b[39m \u001b[39mint\u001b[39m(labels\u001b[39m.\u001b[39mloc[(labels\u001b[39m.\u001b[39;49mprotein_1 \u001b[39m==\u001b[39;49m pair_1) \u001b[39m&\u001b[39m (labels\u001b[39m.\u001b[39mprotein_2 \u001b[39m==\u001b[39m pair_2)]\u001b[39m.\u001b[39mlabel)\n\u001b[1;32m      <a href='vscode-notebook-cell://ssh-remote%2Blphobos/mnt/mnemo5/sum02dean/sl_projects/GCN/GCN-STRING/src/notebooks/GCN.ipynb#ch0000001vscode-remote?line=7'>8</a>\u001b[0m \u001b[39mreturn\u001b[39;00m file, l\n",
      "File \u001b[0;32m~/miniconda3/envs/pytorch/lib/python3.9/site-packages/pandas/core/ops/common.py:70\u001b[0m, in \u001b[0;36m_unpack_zerodim_and_defer.<locals>.new_method\u001b[0;34m(self, other)\u001b[0m\n\u001b[1;32m     <a href='file:///mnt/mnemo5/sum02dean/miniconda3/envs/pytorch/lib/python3.9/site-packages/pandas/core/ops/common.py?line=65'>66</a>\u001b[0m             \u001b[39mreturn\u001b[39;00m \u001b[39mNotImplemented\u001b[39m\n\u001b[1;32m     <a href='file:///mnt/mnemo5/sum02dean/miniconda3/envs/pytorch/lib/python3.9/site-packages/pandas/core/ops/common.py?line=67'>68</a>\u001b[0m other \u001b[39m=\u001b[39m item_from_zerodim(other)\n\u001b[0;32m---> <a href='file:///mnt/mnemo5/sum02dean/miniconda3/envs/pytorch/lib/python3.9/site-packages/pandas/core/ops/common.py?line=69'>70</a>\u001b[0m \u001b[39mreturn\u001b[39;00m method(\u001b[39mself\u001b[39;49m, other)\n",
      "File \u001b[0;32m~/miniconda3/envs/pytorch/lib/python3.9/site-packages/pandas/core/arraylike.py:40\u001b[0m, in \u001b[0;36mOpsMixin.__eq__\u001b[0;34m(self, other)\u001b[0m\n\u001b[1;32m     <a href='file:///mnt/mnemo5/sum02dean/miniconda3/envs/pytorch/lib/python3.9/site-packages/pandas/core/arraylike.py?line=37'>38</a>\u001b[0m \u001b[39m@unpack_zerodim_and_defer\u001b[39m(\u001b[39m\"\u001b[39m\u001b[39m__eq__\u001b[39m\u001b[39m\"\u001b[39m)\n\u001b[1;32m     <a href='file:///mnt/mnemo5/sum02dean/miniconda3/envs/pytorch/lib/python3.9/site-packages/pandas/core/arraylike.py?line=38'>39</a>\u001b[0m \u001b[39mdef\u001b[39;00m \u001b[39m__eq__\u001b[39m(\u001b[39mself\u001b[39m, other):\n\u001b[0;32m---> <a href='file:///mnt/mnemo5/sum02dean/miniconda3/envs/pytorch/lib/python3.9/site-packages/pandas/core/arraylike.py?line=39'>40</a>\u001b[0m     \u001b[39mreturn\u001b[39;00m \u001b[39mself\u001b[39;49m\u001b[39m.\u001b[39;49m_cmp_method(other, operator\u001b[39m.\u001b[39;49meq)\n",
      "File \u001b[0;32m~/miniconda3/envs/pytorch/lib/python3.9/site-packages/pandas/core/series.py:5623\u001b[0m, in \u001b[0;36mSeries._cmp_method\u001b[0;34m(self, other, op)\u001b[0m\n\u001b[1;32m   <a href='file:///mnt/mnemo5/sum02dean/miniconda3/envs/pytorch/lib/python3.9/site-packages/pandas/core/series.py?line=5619'>5620</a>\u001b[0m rvalues \u001b[39m=\u001b[39m extract_array(other, extract_numpy\u001b[39m=\u001b[39m\u001b[39mTrue\u001b[39;00m, extract_range\u001b[39m=\u001b[39m\u001b[39mTrue\u001b[39;00m)\n\u001b[1;32m   <a href='file:///mnt/mnemo5/sum02dean/miniconda3/envs/pytorch/lib/python3.9/site-packages/pandas/core/series.py?line=5621'>5622</a>\u001b[0m \u001b[39mwith\u001b[39;00m np\u001b[39m.\u001b[39merrstate(\u001b[39mall\u001b[39m\u001b[39m=\u001b[39m\u001b[39m\"\u001b[39m\u001b[39mignore\u001b[39m\u001b[39m\"\u001b[39m):\n\u001b[0;32m-> <a href='file:///mnt/mnemo5/sum02dean/miniconda3/envs/pytorch/lib/python3.9/site-packages/pandas/core/series.py?line=5622'>5623</a>\u001b[0m     res_values \u001b[39m=\u001b[39m ops\u001b[39m.\u001b[39;49mcomparison_op(lvalues, rvalues, op)\n\u001b[1;32m   <a href='file:///mnt/mnemo5/sum02dean/miniconda3/envs/pytorch/lib/python3.9/site-packages/pandas/core/series.py?line=5624'>5625</a>\u001b[0m \u001b[39mreturn\u001b[39;00m \u001b[39mself\u001b[39m\u001b[39m.\u001b[39m_construct_result(res_values, name\u001b[39m=\u001b[39mres_name)\n",
      "File \u001b[0;32m~/miniconda3/envs/pytorch/lib/python3.9/site-packages/pandas/core/ops/array_ops.py:283\u001b[0m, in \u001b[0;36mcomparison_op\u001b[0;34m(left, right, op)\u001b[0m\n\u001b[1;32m    <a href='file:///mnt/mnemo5/sum02dean/miniconda3/envs/pytorch/lib/python3.9/site-packages/pandas/core/ops/array_ops.py?line=279'>280</a>\u001b[0m     \u001b[39mreturn\u001b[39;00m invalid_comparison(lvalues, rvalues, op)\n\u001b[1;32m    <a href='file:///mnt/mnemo5/sum02dean/miniconda3/envs/pytorch/lib/python3.9/site-packages/pandas/core/ops/array_ops.py?line=281'>282</a>\u001b[0m \u001b[39melif\u001b[39;00m is_object_dtype(lvalues\u001b[39m.\u001b[39mdtype) \u001b[39mor\u001b[39;00m \u001b[39misinstance\u001b[39m(rvalues, \u001b[39mstr\u001b[39m):\n\u001b[0;32m--> <a href='file:///mnt/mnemo5/sum02dean/miniconda3/envs/pytorch/lib/python3.9/site-packages/pandas/core/ops/array_ops.py?line=282'>283</a>\u001b[0m     res_values \u001b[39m=\u001b[39m comp_method_OBJECT_ARRAY(op, lvalues, rvalues)\n\u001b[1;32m    <a href='file:///mnt/mnemo5/sum02dean/miniconda3/envs/pytorch/lib/python3.9/site-packages/pandas/core/ops/array_ops.py?line=284'>285</a>\u001b[0m \u001b[39melse\u001b[39;00m:\n\u001b[1;32m    <a href='file:///mnt/mnemo5/sum02dean/miniconda3/envs/pytorch/lib/python3.9/site-packages/pandas/core/ops/array_ops.py?line=285'>286</a>\u001b[0m     res_values \u001b[39m=\u001b[39m _na_arithmetic_op(lvalues, rvalues, op, is_cmp\u001b[39m=\u001b[39m\u001b[39mTrue\u001b[39;00m)\n",
      "File \u001b[0;32m~/miniconda3/envs/pytorch/lib/python3.9/site-packages/pandas/core/ops/array_ops.py:73\u001b[0m, in \u001b[0;36mcomp_method_OBJECT_ARRAY\u001b[0;34m(op, x, y)\u001b[0m\n\u001b[1;32m     <a href='file:///mnt/mnemo5/sum02dean/miniconda3/envs/pytorch/lib/python3.9/site-packages/pandas/core/ops/array_ops.py?line=70'>71</a>\u001b[0m     result \u001b[39m=\u001b[39m libops\u001b[39m.\u001b[39mvec_compare(x\u001b[39m.\u001b[39mravel(), y\u001b[39m.\u001b[39mravel(), op)\n\u001b[1;32m     <a href='file:///mnt/mnemo5/sum02dean/miniconda3/envs/pytorch/lib/python3.9/site-packages/pandas/core/ops/array_ops.py?line=71'>72</a>\u001b[0m \u001b[39melse\u001b[39;00m:\n\u001b[0;32m---> <a href='file:///mnt/mnemo5/sum02dean/miniconda3/envs/pytorch/lib/python3.9/site-packages/pandas/core/ops/array_ops.py?line=72'>73</a>\u001b[0m     result \u001b[39m=\u001b[39m libops\u001b[39m.\u001b[39;49mscalar_compare(x\u001b[39m.\u001b[39;49mravel(), y, op)\n\u001b[1;32m     <a href='file:///mnt/mnemo5/sum02dean/miniconda3/envs/pytorch/lib/python3.9/site-packages/pandas/core/ops/array_ops.py?line=73'>74</a>\u001b[0m \u001b[39mreturn\u001b[39;00m result\u001b[39m.\u001b[39mreshape(x\u001b[39m.\u001b[39mshape)\n",
      "\u001b[0;31mKeyboardInterrupt\u001b[0m: "
     ]
    }
   ],
   "source": [
    "# Import the data\n",
    "graph_dir_path = '/mnt/mnemo5/sum02dean/sl_projects/GCN/GCN-STRING/src/scripts/graph_data'\n",
    "labels_dir_path = '/mnt/mnemo5/sum02dean/sl_projects/GCN/GCN-STRING/src/scripts/graph_labels'\n",
    "\n",
    "graph_files = glob.glob(os.path.join(graph_dir_path, '*'))\n",
    "graph_labels = glob.glob(os.path.join(labels_dir_path, '*'))\n",
    "graph_labels = pd.read_csv(graph_labels[0])\n",
    "\n",
    "# Create positive and negative sets\n",
    "positives = []\n",
    "pos_labels = []\n",
    "\n",
    "negatives = []\n",
    "neg_labels = []\n",
    "\n",
    "for i, file in enumerate(graph_files):\n",
    "    obs, label = get_label(file, graph_labels)\n",
    "    \n",
    "    if label == 1:\n",
    "        positives.append(obs)\n",
    "        pos_labels.append([1,0])\n",
    "    else:\n",
    "        negatives.append(obs)\n",
    "        neg_labels.append([0,1])\n"
   ]
  },
  {
   "cell_type": "code",
   "execution_count": null,
   "metadata": {},
   "outputs": [],
   "source": [
    "# Balance the number of negatives with number of positives\n",
    "negatives = np.random.choice(negatives, size=len(positives), replace=False)"
   ]
  },
  {
   "cell_type": "code",
   "execution_count": null,
   "metadata": {},
   "outputs": [],
   "source": [
    "# Read in the positives\n",
    "pos_graphs = read_graphs(positives)\n",
    "neg_graphs = read_graphs(negatives)\n"
   ]
  },
  {
   "cell_type": "code",
   "execution_count": null,
   "metadata": {},
   "outputs": [
    {
     "name": "stderr",
     "output_type": "stream",
     "text": [
      "  0%|          | 0/5456 [00:00<?, ?it/s]/mnt/mnemo5/sum02dean/miniconda3/envs/pytorch/lib/python3.9/site-packages/torch_geometric/utils/convert.py:170: UserWarning: Creating a tensor from a list of numpy.ndarrays is extremely slow. Please consider converting the list to a single numpy.ndarray with numpy.array() before converting to a tensor. (Triggered internally at  /opt/conda/conda-bld/pytorch_1634272068185/work/torch/csrc/utils/tensor_new.cpp:201.)\n",
      "  data[key] = torch.tensor(value)\n",
      "100%|██████████| 5456/5456 [05:08<00:00, 17.67it/s]  \n",
      "100%|██████████| 5456/5456 [07:17<00:00, 12.48it/s]  \n"
     ]
    }
   ],
   "source": [
    "# Format graphs\n",
    "positive_graphs = format_graphs(pos_graphs, label=1)\n",
    "negative_graphs = format_graphs(neg_graphs, label=0)"
   ]
  },
  {
   "cell_type": "code",
   "execution_count": null,
   "metadata": {},
   "outputs": [],
   "source": []
  },
  {
   "cell_type": "code",
   "execution_count": 9,
   "metadata": {},
   "outputs": [],
   "source": [
    "# Make sure number of negative graphs equal number of positives graphs\n",
    "assert (len(negative_graphs) == len(positive_graphs))"
   ]
  },
  {
   "cell_type": "code",
   "execution_count": 11,
   "metadata": {},
   "outputs": [
    {
     "data": {
      "text/html": [
       "<div>\n",
       "<style scoped>\n",
       "    .dataframe tbody tr th:only-of-type {\n",
       "        vertical-align: middle;\n",
       "    }\n",
       "\n",
       "    .dataframe tbody tr th {\n",
       "        vertical-align: top;\n",
       "    }\n",
       "\n",
       "    .dataframe thead th {\n",
       "        text-align: right;\n",
       "    }\n",
       "</style>\n",
       "<table border=\"1\" class=\"dataframe\">\n",
       "  <thead>\n",
       "    <tr style=\"text-align: right;\">\n",
       "      <th></th>\n",
       "      <th>0</th>\n",
       "      <th>1</th>\n",
       "      <th>2</th>\n",
       "      <th>3</th>\n",
       "      <th>4</th>\n",
       "      <th>5</th>\n",
       "      <th>6</th>\n",
       "      <th>7</th>\n",
       "      <th>8</th>\n",
       "      <th>9</th>\n",
       "      <th>10</th>\n",
       "      <th>11</th>\n",
       "      <th>12</th>\n",
       "      <th>13</th>\n",
       "      <th>14</th>\n",
       "      <th>15</th>\n",
       "    </tr>\n",
       "  </thead>\n",
       "  <tbody>\n",
       "    <tr>\n",
       "      <th>0</th>\n",
       "      <td>0.814468</td>\n",
       "      <td>162.975100</td>\n",
       "      <td>0.000330</td>\n",
       "      <td>0.000048</td>\n",
       "      <td>0.999621</td>\n",
       "      <td>0.000046</td>\n",
       "      <td>0.000157</td>\n",
       "      <td>2.072345e-07</td>\n",
       "      <td>0.000056</td>\n",
       "      <td>0.000016</td>\n",
       "      <td>0.000475</td>\n",
       "      <td>0.000548</td>\n",
       "      <td>0.998702</td>\n",
       "      <td>-87.686188</td>\n",
       "      <td>140.659607</td>\n",
       "      <td>0.806728</td>\n",
       "    </tr>\n",
       "    <tr>\n",
       "      <th>1</th>\n",
       "      <td>0.643585</td>\n",
       "      <td>75.428109</td>\n",
       "      <td>0.016258</td>\n",
       "      <td>0.002547</td>\n",
       "      <td>0.981195</td>\n",
       "      <td>0.002067</td>\n",
       "      <td>0.007617</td>\n",
       "      <td>1.779546e-05</td>\n",
       "      <td>0.001422</td>\n",
       "      <td>0.001080</td>\n",
       "      <td>0.006447</td>\n",
       "      <td>0.005204</td>\n",
       "      <td>0.976143</td>\n",
       "      <td>-85.763329</td>\n",
       "      <td>140.484634</td>\n",
       "      <td>0.348744</td>\n",
       "    </tr>\n",
       "    <tr>\n",
       "      <th>2</th>\n",
       "      <td>0.434347</td>\n",
       "      <td>104.460469</td>\n",
       "      <td>0.369673</td>\n",
       "      <td>0.001916</td>\n",
       "      <td>0.628411</td>\n",
       "      <td>0.101635</td>\n",
       "      <td>0.312523</td>\n",
       "      <td>2.422128e-03</td>\n",
       "      <td>0.000849</td>\n",
       "      <td>0.001450</td>\n",
       "      <td>0.051687</td>\n",
       "      <td>0.162337</td>\n",
       "      <td>0.367096</td>\n",
       "      <td>-68.709030</td>\n",
       "      <td>-30.898502</td>\n",
       "      <td>0.237885</td>\n",
       "    </tr>\n",
       "    <tr>\n",
       "      <th>3</th>\n",
       "      <td>0.351372</td>\n",
       "      <td>65.003843</td>\n",
       "      <td>0.453501</td>\n",
       "      <td>0.009811</td>\n",
       "      <td>0.536688</td>\n",
       "      <td>0.138164</td>\n",
       "      <td>0.309665</td>\n",
       "      <td>3.592184e-03</td>\n",
       "      <td>0.004173</td>\n",
       "      <td>0.007392</td>\n",
       "      <td>0.051421</td>\n",
       "      <td>0.150600</td>\n",
       "      <td>0.334994</td>\n",
       "      <td>-73.034126</td>\n",
       "      <td>-24.023359</td>\n",
       "      <td>0.270601</td>\n",
       "    </tr>\n",
       "    <tr>\n",
       "      <th>4</th>\n",
       "      <td>0.622860</td>\n",
       "      <td>108.813592</td>\n",
       "      <td>0.594857</td>\n",
       "      <td>0.014759</td>\n",
       "      <td>0.390384</td>\n",
       "      <td>0.133626</td>\n",
       "      <td>0.448714</td>\n",
       "      <td>2.794695e-03</td>\n",
       "      <td>0.002449</td>\n",
       "      <td>0.015687</td>\n",
       "      <td>0.044883</td>\n",
       "      <td>0.100467</td>\n",
       "      <td>0.251379</td>\n",
       "      <td>-73.304596</td>\n",
       "      <td>-29.837749</td>\n",
       "      <td>0.114553</td>\n",
       "    </tr>\n",
       "  </tbody>\n",
       "</table>\n",
       "</div>"
      ],
      "text/plain": [
       "         0           1         2         3         4         5         6   \\\n",
       "0  0.814468  162.975100  0.000330  0.000048  0.999621  0.000046  0.000157   \n",
       "1  0.643585   75.428109  0.016258  0.002547  0.981195  0.002067  0.007617   \n",
       "2  0.434347  104.460469  0.369673  0.001916  0.628411  0.101635  0.312523   \n",
       "3  0.351372   65.003843  0.453501  0.009811  0.536688  0.138164  0.309665   \n",
       "4  0.622860  108.813592  0.594857  0.014759  0.390384  0.133626  0.448714   \n",
       "\n",
       "             7         8         9         10        11        12         13  \\\n",
       "0  2.072345e-07  0.000056  0.000016  0.000475  0.000548  0.998702 -87.686188   \n",
       "1  1.779546e-05  0.001422  0.001080  0.006447  0.005204  0.976143 -85.763329   \n",
       "2  2.422128e-03  0.000849  0.001450  0.051687  0.162337  0.367096 -68.709030   \n",
       "3  3.592184e-03  0.004173  0.007392  0.051421  0.150600  0.334994 -73.034126   \n",
       "4  2.794695e-03  0.002449  0.015687  0.044883  0.100467  0.251379 -73.304596   \n",
       "\n",
       "           14        15  \n",
       "0  140.659607  0.806728  \n",
       "1  140.484634  0.348744  \n",
       "2  -30.898502  0.237885  \n",
       "3  -24.023359  0.270601  \n",
       "4  -29.837749  0.114553  "
      ]
     },
     "metadata": {},
     "output_type": "display_data"
    },
    {
     "data": {
      "text/html": [
       "<div>\n",
       "<style scoped>\n",
       "    .dataframe tbody tr th:only-of-type {\n",
       "        vertical-align: middle;\n",
       "    }\n",
       "\n",
       "    .dataframe tbody tr th {\n",
       "        vertical-align: top;\n",
       "    }\n",
       "\n",
       "    .dataframe thead th {\n",
       "        text-align: right;\n",
       "    }\n",
       "</style>\n",
       "<table border=\"1\" class=\"dataframe\">\n",
       "  <thead>\n",
       "    <tr style=\"text-align: right;\">\n",
       "      <th></th>\n",
       "      <th>0</th>\n",
       "      <th>1</th>\n",
       "      <th>2</th>\n",
       "      <th>3</th>\n",
       "      <th>4</th>\n",
       "      <th>5</th>\n",
       "      <th>6</th>\n",
       "      <th>7</th>\n",
       "      <th>8</th>\n",
       "      <th>9</th>\n",
       "      <th>10</th>\n",
       "      <th>11</th>\n",
       "      <th>12</th>\n",
       "      <th>13</th>\n",
       "      <th>14</th>\n",
       "      <th>15</th>\n",
       "    </tr>\n",
       "  </thead>\n",
       "  <tbody>\n",
       "    <tr>\n",
       "      <th>0</th>\n",
       "      <td>0.838683</td>\n",
       "      <td>0.745196</td>\n",
       "      <td>0.000330</td>\n",
       "      <td>0.000048</td>\n",
       "      <td>0.999622</td>\n",
       "      <td>0.000047</td>\n",
       "      <td>0.000157</td>\n",
       "      <td>2.076412e-07</td>\n",
       "      <td>0.000059</td>\n",
       "      <td>0.000016</td>\n",
       "      <td>0.000482</td>\n",
       "      <td>0.000548</td>\n",
       "      <td>0.998703</td>\n",
       "      <td>0.256448</td>\n",
       "      <td>0.890725</td>\n",
       "      <td>0.806728</td>\n",
       "    </tr>\n",
       "    <tr>\n",
       "      <th>1</th>\n",
       "      <td>0.662657</td>\n",
       "      <td>0.344814</td>\n",
       "      <td>0.016258</td>\n",
       "      <td>0.002547</td>\n",
       "      <td>0.981195</td>\n",
       "      <td>0.002073</td>\n",
       "      <td>0.007619</td>\n",
       "      <td>1.783045e-05</td>\n",
       "      <td>0.001479</td>\n",
       "      <td>0.001080</td>\n",
       "      <td>0.006554</td>\n",
       "      <td>0.005212</td>\n",
       "      <td>0.976144</td>\n",
       "      <td>0.261790</td>\n",
       "      <td>0.890239</td>\n",
       "      <td>0.348744</td>\n",
       "    </tr>\n",
       "    <tr>\n",
       "      <th>2</th>\n",
       "      <td>0.447122</td>\n",
       "      <td>0.477589</td>\n",
       "      <td>0.369683</td>\n",
       "      <td>0.001916</td>\n",
       "      <td>0.628408</td>\n",
       "      <td>0.101911</td>\n",
       "      <td>0.312572</td>\n",
       "      <td>2.426890e-03</td>\n",
       "      <td>0.000883</td>\n",
       "      <td>0.001450</td>\n",
       "      <td>0.052543</td>\n",
       "      <td>0.162573</td>\n",
       "      <td>0.367097</td>\n",
       "      <td>0.309168</td>\n",
       "      <td>0.414153</td>\n",
       "      <td>0.237885</td>\n",
       "    </tr>\n",
       "    <tr>\n",
       "      <th>3</th>\n",
       "      <td>0.361650</td>\n",
       "      <td>0.297140</td>\n",
       "      <td>0.453512</td>\n",
       "      <td>0.009811</td>\n",
       "      <td>0.536685</td>\n",
       "      <td>0.138539</td>\n",
       "      <td>0.309713</td>\n",
       "      <td>3.599247e-03</td>\n",
       "      <td>0.004339</td>\n",
       "      <td>0.007392</td>\n",
       "      <td>0.052272</td>\n",
       "      <td>0.150819</td>\n",
       "      <td>0.334994</td>\n",
       "      <td>0.297153</td>\n",
       "      <td>0.433251</td>\n",
       "      <td>0.270601</td>\n",
       "    </tr>\n",
       "    <tr>\n",
       "      <th>4</th>\n",
       "      <td>0.641308</td>\n",
       "      <td>0.497497</td>\n",
       "      <td>0.594872</td>\n",
       "      <td>0.014759</td>\n",
       "      <td>0.390380</td>\n",
       "      <td>0.133989</td>\n",
       "      <td>0.448784</td>\n",
       "      <td>2.800190e-03</td>\n",
       "      <td>0.002547</td>\n",
       "      <td>0.015687</td>\n",
       "      <td>0.045627</td>\n",
       "      <td>0.100613</td>\n",
       "      <td>0.251380</td>\n",
       "      <td>0.296401</td>\n",
       "      <td>0.417099</td>\n",
       "      <td>0.114553</td>\n",
       "    </tr>\n",
       "  </tbody>\n",
       "</table>\n",
       "</div>"
      ],
      "text/plain": [
       "         0         1         2         3         4         5         6   \\\n",
       "0  0.838683  0.745196  0.000330  0.000048  0.999622  0.000047  0.000157   \n",
       "1  0.662657  0.344814  0.016258  0.002547  0.981195  0.002073  0.007619   \n",
       "2  0.447122  0.477589  0.369683  0.001916  0.628408  0.101911  0.312572   \n",
       "3  0.361650  0.297140  0.453512  0.009811  0.536685  0.138539  0.309713   \n",
       "4  0.641308  0.497497  0.594872  0.014759  0.390380  0.133989  0.448784   \n",
       "\n",
       "             7         8         9         10        11        12        13  \\\n",
       "0  2.076412e-07  0.000059  0.000016  0.000482  0.000548  0.998703  0.256448   \n",
       "1  1.783045e-05  0.001479  0.001080  0.006554  0.005212  0.976144  0.261790   \n",
       "2  2.426890e-03  0.000883  0.001450  0.052543  0.162573  0.367097  0.309168   \n",
       "3  3.599247e-03  0.004339  0.007392  0.052272  0.150819  0.334994  0.297153   \n",
       "4  2.800190e-03  0.002547  0.015687  0.045627  0.100613  0.251380  0.296401   \n",
       "\n",
       "         14        15  \n",
       "0  0.890725  0.806728  \n",
       "1  0.890239  0.348744  \n",
       "2  0.414153  0.237885  \n",
       "3  0.433251  0.270601  \n",
       "4  0.417099  0.114553  "
      ]
     },
     "metadata": {},
     "output_type": "display_data"
    }
   ],
   "source": [
    "from sklearn.preprocessing import MinMaxScaler\n",
    "# Combine negative and positive data\n",
    "balanced_graphs = positive_graphs + negative_graphs\n",
    "\n",
    "ss = MinMaxScaler()\n",
    "train_x = np.vstack([d.x for d in balanced_graphs])\n",
    "train_x = pd.DataFrame(train_x)\n",
    "\n",
    "display(train_x.head())\n",
    "train_x = pd.DataFrame(ss.fit_transform(train_x))\n",
    "display(train_x.head())"
   ]
  },
  {
   "cell_type": "code",
   "execution_count": 12,
   "metadata": {},
   "outputs": [
    {
     "data": {
      "text/plain": [
       "tensor([[8.3868e-01, 7.4520e-01, 3.3039e-04,  ..., 2.5645e-01, 8.9072e-01,\n",
       "         8.0673e-01],\n",
       "        [6.6266e-01, 3.4481e-01, 1.6258e-02,  ..., 2.6179e-01, 8.9024e-01,\n",
       "         3.4874e-01],\n",
       "        [4.4712e-01, 4.7759e-01, 3.6968e-01,  ..., 3.0917e-01, 4.1415e-01,\n",
       "         2.3789e-01],\n",
       "        ...,\n",
       "        [6.8865e-01, 6.2904e-01, 6.1145e-03,  ..., 2.3445e-01, 8.7019e-01,\n",
       "         4.2524e-01],\n",
       "        [7.5714e-01, 4.7704e-01, 2.3886e-03,  ..., 3.1186e-01, 8.9342e-01,\n",
       "         3.3632e-01],\n",
       "        [8.5304e-01, 8.6744e-01, 1.5776e-04,  ..., 2.3153e-01, 8.7039e-01,\n",
       "         5.3027e-01]])"
      ]
     },
     "execution_count": 12,
     "metadata": {},
     "output_type": "execute_result"
    }
   ],
   "source": [
    "for i in range(len(balanced_graphs)):\n",
    "    balanced_graphs[i].x = torch.FloatTensor(ss.transform(balanced_graphs[i].x))\n"
   ]
  },
  {
   "cell_type": "code",
   "execution_count": 13,
   "metadata": {},
   "outputs": [],
   "source": [
    "# Split into train and test\n",
    "train_idx = np.random.choice(a=[False, True], size=len(balanced_graphs))\n",
    "test_idx = ~train_idx\n",
    "\n",
    "# Convert range to array \n",
    "full_idx = np.array(range(len(balanced_graphs)))\n",
    "\n",
    "# Grab indices using Boolean array\n",
    "tr_idx = full_idx[train_idx]\n",
    "te_idx = full_idx[test_idx]\n",
    "\n",
    "# Slice train and test data\n",
    "train_data = [balanced_graphs[x] for x in tr_idx]\n",
    "test_data = [balanced_graphs[x] for x in te_idx]\n",
    "\n"
   ]
  },
  {
   "cell_type": "code",
   "execution_count": 14,
   "metadata": {},
   "outputs": [
    {
     "name": "stdout",
     "output_type": "stream",
     "text": [
      "cpu\n"
     ]
    }
   ],
   "source": [
    "# Select appropriate device\n",
    "device = torch.device('cuda' if torch.cuda.is_available() else 'cpu')\n",
    "print(device)\n",
    "\n",
    "# Define model\n",
    "class GCN(torch.nn.Module):\n",
    "    def __init__(self, hidden_channels=64):\n",
    "        super(GCN, self).__init__()\n",
    "\n",
    "        # Parameters\n",
    "        self.num_node_features = 16\n",
    "        self.num_classes = 1\n",
    "        self.hidden_channels = hidden_channels\n",
    "\n",
    "        # Layers (consider using class SAGEConv instead)\n",
    "        self.conv1 = GCNConv(self.num_node_features, self.hidden_channels)\n",
    "        self.linear_1 = Linear(self.hidden_channels, self.hidden_channels)\n",
    "        self.linear_2 = Linear(self.hidden_channels, self.num_classes)\n",
    "\n",
    "        # Paramteric PRelU\n",
    "        self.prelu_1 = torch.nn.PReLU()\n",
    "        self.prelu_2 = torch.nn.PReLU()\n",
    "        self.prelu_3 = torch.nn.PReLU()\n",
    "\n",
    "        # Regularization\n",
    "        p = 0.5\n",
    "        self.drop_out = torch.nn.Dropout(p=p)\n",
    "\n",
    "        # Batch Normalization\n",
    "        self.batch_norm_1 = torch.nn.BatchNorm1d(num_features=self.hidden_channels, track_running_stats=False, momentum=None)\n",
    "        self.batch_norm_2 = torch.nn.BatchNorm1d(num_features=self.hidden_channels, track_running_stats=False, momentum=None)\n",
    "        self.batch_norm_3 = torch.nn.BatchNorm1d(num_features=self.num_classes, track_running_stats=False, momentum=None)\n",
    "\n",
    "    def forward(self, x, edge_index, batch):\n",
    "\n",
    "        # 1.Conv block 1\n",
    "        x = self.conv1(x, edge_index)\n",
    "        x = self.prelu_1(x)\n",
    "        \n",
    "        # Feature pooling\n",
    "        x = global_max_pool(x, batch)  # --> [batch_size, hidden_channels]\n",
    "\n",
    "        # 3. Linearization\n",
    "        x = self.linear_1(x)\n",
    "        x = self.batch_norm_2(x)\n",
    "        x = self.prelu_2(x)\n",
    "\n",
    "        # 4. Logic outputs\n",
    "        x = self.linear_2(x)\n",
    "        x = self.batch_norm_3(x)\n",
    "        x = self.drop_out(x)\n",
    "        x = self.prelu_2(x)\n",
    "        return x\n"
   ]
  },
  {
   "cell_type": "code",
   "execution_count": 16,
   "metadata": {},
   "outputs": [
    {
     "name": "stdout",
     "output_type": "stream",
     "text": [
      "GCN(\n",
      "  (conv1): GCNConv(16, 16)\n",
      "  (linear_1): Linear(in_features=16, out_features=16, bias=True)\n",
      "  (linear_2): Linear(in_features=16, out_features=1, bias=True)\n",
      "  (prelu_1): PReLU(num_parameters=1)\n",
      "  (prelu_2): PReLU(num_parameters=1)\n",
      "  (prelu_3): PReLU(num_parameters=1)\n",
      "  (drop_out): Dropout(p=0.5, inplace=False)\n",
      "  (batch_norm_1): BatchNorm1d(16, eps=1e-05, momentum=None, affine=True, track_running_stats=False)\n",
      "  (batch_norm_2): BatchNorm1d(16, eps=1e-05, momentum=None, affine=True, track_running_stats=False)\n",
      "  (batch_norm_3): BatchNorm1d(1, eps=1e-05, momentum=None, affine=True, track_running_stats=False)\n",
      ")\n"
     ]
    }
   ],
   "source": [
    "# Build model\n",
    "model = GCN(hidden_channels=16)\n",
    "print(model)"
   ]
  },
  {
   "cell_type": "code",
   "execution_count": 17,
   "metadata": {},
   "outputs": [],
   "source": [
    "# Configs\n",
    "BATCH_SIZE = 50\n",
    "EPOCHS = 50\n",
    "LEARNING_RATE = 0.002\n",
    "\n",
    "# Optimizers & Criterion\n",
    "optimizer = torch.optim.Adam(model.parameters(), lr=LEARNING_RATE)\n",
    "criterion = torch.nn.BCEWithLogitsLoss()\n",
    "\n",
    "# Data-loaders\n",
    "train_loader = DataLoader(train_data, batch_size=BATCH_SIZE, shuffle=True)\n",
    "test_loader = DataLoader(test_data, batch_size=BATCH_SIZE, shuffle=False)\n",
    "all_loader  = DataLoader(balanced_graphs, batch_size=BATCH_SIZE, shuffle=False)\n"
   ]
  },
  {
   "cell_type": "code",
   "execution_count": 19,
   "metadata": {},
   "outputs": [
    {
     "name": "stdout",
     "output_type": "stream",
     "text": [
      "Begining training!\n"
     ]
    },
    {
     "name": "stderr",
     "output_type": "stream",
     "text": [
      "100%|██████████| 108/108 [00:28<00:00,  3.78it/s]\n"
     ]
    },
    {
     "name": "stdout",
     "output_type": "stream",
     "text": [
      "77.4745574593544\n"
     ]
    },
    {
     "name": "stderr",
     "output_type": "stream",
     "text": [
      "100%|██████████| 108/108 [00:26<00:00,  4.06it/s]\n"
     ]
    },
    {
     "name": "stdout",
     "output_type": "stream",
     "text": [
      "75.84344190359116\n"
     ]
    },
    {
     "name": "stderr",
     "output_type": "stream",
     "text": [
      "100%|██████████| 108/108 [00:22<00:00,  4.71it/s]\n"
     ]
    },
    {
     "name": "stdout",
     "output_type": "stream",
     "text": [
      "74.78214693069458\n"
     ]
    },
    {
     "name": "stderr",
     "output_type": "stream",
     "text": [
      "100%|██████████| 108/108 [00:23<00:00,  4.55it/s]\n"
     ]
    },
    {
     "name": "stdout",
     "output_type": "stream",
     "text": [
      "74.4153106212616\n"
     ]
    },
    {
     "name": "stderr",
     "output_type": "stream",
     "text": [
      "100%|██████████| 108/108 [00:25<00:00,  4.30it/s]\n"
     ]
    },
    {
     "name": "stdout",
     "output_type": "stream",
     "text": [
      "73.94557183980942\n"
     ]
    },
    {
     "name": "stderr",
     "output_type": "stream",
     "text": [
      "100%|██████████| 108/108 [00:24<00:00,  4.34it/s]\n"
     ]
    },
    {
     "name": "stdout",
     "output_type": "stream",
     "text": [
      "73.60109454393387\n"
     ]
    },
    {
     "name": "stderr",
     "output_type": "stream",
     "text": [
      "100%|██████████| 108/108 [00:24<00:00,  4.40it/s]\n"
     ]
    },
    {
     "name": "stdout",
     "output_type": "stream",
     "text": [
      "73.37189590930939\n"
     ]
    },
    {
     "name": "stderr",
     "output_type": "stream",
     "text": [
      "100%|██████████| 108/108 [00:24<00:00,  4.47it/s]\n"
     ]
    },
    {
     "name": "stdout",
     "output_type": "stream",
     "text": [
      "73.44438993930817\n"
     ]
    },
    {
     "name": "stderr",
     "output_type": "stream",
     "text": [
      "100%|██████████| 108/108 [00:24<00:00,  4.41it/s]\n"
     ]
    },
    {
     "name": "stdout",
     "output_type": "stream",
     "text": [
      "73.07606542110443\n"
     ]
    },
    {
     "name": "stderr",
     "output_type": "stream",
     "text": [
      "100%|██████████| 108/108 [00:24<00:00,  4.41it/s]\n"
     ]
    },
    {
     "name": "stdout",
     "output_type": "stream",
     "text": [
      "73.13582971692085\n"
     ]
    },
    {
     "name": "stderr",
     "output_type": "stream",
     "text": [
      "100%|██████████| 108/108 [00:23<00:00,  4.53it/s]\n"
     ]
    },
    {
     "name": "stdout",
     "output_type": "stream",
     "text": [
      "73.23056358098984\n"
     ]
    },
    {
     "name": "stderr",
     "output_type": "stream",
     "text": [
      "100%|██████████| 108/108 [00:23<00:00,  4.54it/s]\n"
     ]
    },
    {
     "name": "stdout",
     "output_type": "stream",
     "text": [
      "72.90783417224884\n"
     ]
    },
    {
     "name": "stderr",
     "output_type": "stream",
     "text": [
      "100%|██████████| 108/108 [00:23<00:00,  4.54it/s]\n"
     ]
    },
    {
     "name": "stdout",
     "output_type": "stream",
     "text": [
      "73.10051667690277\n"
     ]
    },
    {
     "name": "stderr",
     "output_type": "stream",
     "text": [
      "100%|██████████| 108/108 [00:23<00:00,  4.52it/s]\n"
     ]
    },
    {
     "name": "stdout",
     "output_type": "stream",
     "text": [
      "72.6099362373352\n"
     ]
    },
    {
     "name": "stderr",
     "output_type": "stream",
     "text": [
      "100%|██████████| 108/108 [00:23<00:00,  4.63it/s]\n"
     ]
    },
    {
     "name": "stdout",
     "output_type": "stream",
     "text": [
      "72.42081940174103\n"
     ]
    },
    {
     "name": "stderr",
     "output_type": "stream",
     "text": [
      "100%|██████████| 108/108 [00:23<00:00,  4.60it/s]\n"
     ]
    },
    {
     "name": "stdout",
     "output_type": "stream",
     "text": [
      "72.41353246569633\n"
     ]
    },
    {
     "name": "stderr",
     "output_type": "stream",
     "text": [
      "100%|██████████| 108/108 [00:24<00:00,  4.46it/s]\n"
     ]
    },
    {
     "name": "stdout",
     "output_type": "stream",
     "text": [
      "72.53847390413284\n"
     ]
    },
    {
     "name": "stderr",
     "output_type": "stream",
     "text": [
      "100%|██████████| 108/108 [00:24<00:00,  4.42it/s]\n"
     ]
    },
    {
     "name": "stdout",
     "output_type": "stream",
     "text": [
      "73.00194936990738\n"
     ]
    },
    {
     "name": "stderr",
     "output_type": "stream",
     "text": [
      "100%|██████████| 108/108 [00:24<00:00,  4.36it/s]\n"
     ]
    },
    {
     "name": "stdout",
     "output_type": "stream",
     "text": [
      "73.27798444032669\n"
     ]
    },
    {
     "name": "stderr",
     "output_type": "stream",
     "text": [
      "100%|██████████| 108/108 [00:24<00:00,  4.46it/s]\n"
     ]
    },
    {
     "name": "stdout",
     "output_type": "stream",
     "text": [
      "72.3933807015419\n"
     ]
    },
    {
     "name": "stderr",
     "output_type": "stream",
     "text": [
      "100%|██████████| 108/108 [00:23<00:00,  4.53it/s]\n"
     ]
    },
    {
     "name": "stdout",
     "output_type": "stream",
     "text": [
      "72.51336365938187\n"
     ]
    },
    {
     "name": "stderr",
     "output_type": "stream",
     "text": [
      "100%|██████████| 108/108 [00:23<00:00,  4.50it/s]\n"
     ]
    },
    {
     "name": "stdout",
     "output_type": "stream",
     "text": [
      "72.19820082187653\n"
     ]
    },
    {
     "name": "stderr",
     "output_type": "stream",
     "text": [
      "100%|██████████| 108/108 [00:23<00:00,  4.52it/s]\n"
     ]
    },
    {
     "name": "stdout",
     "output_type": "stream",
     "text": [
      "72.09163826704025\n"
     ]
    },
    {
     "name": "stderr",
     "output_type": "stream",
     "text": [
      "100%|██████████| 108/108 [00:23<00:00,  4.52it/s]\n"
     ]
    },
    {
     "name": "stdout",
     "output_type": "stream",
     "text": [
      "72.54373127222061\n"
     ]
    },
    {
     "name": "stderr",
     "output_type": "stream",
     "text": [
      "100%|██████████| 108/108 [00:23<00:00,  4.55it/s]\n"
     ]
    },
    {
     "name": "stdout",
     "output_type": "stream",
     "text": [
      "72.2070974111557\n"
     ]
    },
    {
     "name": "stderr",
     "output_type": "stream",
     "text": [
      " 31%|███▏      | 34/108 [00:07<00:17,  4.31it/s]\n"
     ]
    },
    {
     "ename": "KeyboardInterrupt",
     "evalue": "",
     "output_type": "error",
     "traceback": [
      "\u001b[0;31m---------------------------------------------------------------------------\u001b[0m",
      "\u001b[0;31mKeyboardInterrupt\u001b[0m                         Traceback (most recent call last)",
      "\u001b[1;32m/mnt/mnemo5/sum02dean/sl_projects/GCN/GCN-STRING/src/notebooks/GCN.ipynb Cell 14'\u001b[0m in \u001b[0;36m<cell line: 6>\u001b[0;34m()\u001b[0m\n\u001b[1;32m     <a href='vscode-notebook-cell://ssh-remote%2Blphobos/mnt/mnemo5/sum02dean/sl_projects/GCN/GCN-STRING/src/notebooks/GCN.ipynb#ch0000012vscode-remote?line=22'>23</a>\u001b[0m     epoch_loss \u001b[39m+\u001b[39m\u001b[39m=\u001b[39m loss\u001b[39m.\u001b[39mitem() \n\u001b[1;32m     <a href='vscode-notebook-cell://ssh-remote%2Blphobos/mnt/mnemo5/sum02dean/sl_projects/GCN/GCN-STRING/src/notebooks/GCN.ipynb#ch0000012vscode-remote?line=24'>25</a>\u001b[0m     \u001b[39m# Backpropogate the loss\u001b[39;00m\n\u001b[0;32m---> <a href='vscode-notebook-cell://ssh-remote%2Blphobos/mnt/mnemo5/sum02dean/sl_projects/GCN/GCN-STRING/src/notebooks/GCN.ipynb#ch0000012vscode-remote?line=25'>26</a>\u001b[0m     loss\u001b[39m.\u001b[39;49mbackward() \n\u001b[1;32m     <a href='vscode-notebook-cell://ssh-remote%2Blphobos/mnt/mnemo5/sum02dean/sl_projects/GCN/GCN-STRING/src/notebooks/GCN.ipynb#ch0000012vscode-remote?line=26'>27</a>\u001b[0m     optimizer\u001b[39m.\u001b[39mstep()  \n\u001b[1;32m     <a href='vscode-notebook-cell://ssh-remote%2Blphobos/mnt/mnemo5/sum02dean/sl_projects/GCN/GCN-STRING/src/notebooks/GCN.ipynb#ch0000012vscode-remote?line=28'>29</a>\u001b[0m \u001b[39m# Print the epochs\u001b[39;00m\n",
      "File \u001b[0;32m~/miniconda3/envs/pytorch/lib/python3.9/site-packages/torch/_tensor.py:307\u001b[0m, in \u001b[0;36mTensor.backward\u001b[0;34m(self, gradient, retain_graph, create_graph, inputs)\u001b[0m\n\u001b[1;32m    <a href='file:///mnt/mnemo5/sum02dean/miniconda3/envs/pytorch/lib/python3.9/site-packages/torch/_tensor.py?line=297'>298</a>\u001b[0m \u001b[39mif\u001b[39;00m has_torch_function_unary(\u001b[39mself\u001b[39m):\n\u001b[1;32m    <a href='file:///mnt/mnemo5/sum02dean/miniconda3/envs/pytorch/lib/python3.9/site-packages/torch/_tensor.py?line=298'>299</a>\u001b[0m     \u001b[39mreturn\u001b[39;00m handle_torch_function(\n\u001b[1;32m    <a href='file:///mnt/mnemo5/sum02dean/miniconda3/envs/pytorch/lib/python3.9/site-packages/torch/_tensor.py?line=299'>300</a>\u001b[0m         Tensor\u001b[39m.\u001b[39mbackward,\n\u001b[1;32m    <a href='file:///mnt/mnemo5/sum02dean/miniconda3/envs/pytorch/lib/python3.9/site-packages/torch/_tensor.py?line=300'>301</a>\u001b[0m         (\u001b[39mself\u001b[39m,),\n\u001b[0;32m   (...)\u001b[0m\n\u001b[1;32m    <a href='file:///mnt/mnemo5/sum02dean/miniconda3/envs/pytorch/lib/python3.9/site-packages/torch/_tensor.py?line=304'>305</a>\u001b[0m         create_graph\u001b[39m=\u001b[39mcreate_graph,\n\u001b[1;32m    <a href='file:///mnt/mnemo5/sum02dean/miniconda3/envs/pytorch/lib/python3.9/site-packages/torch/_tensor.py?line=305'>306</a>\u001b[0m         inputs\u001b[39m=\u001b[39minputs)\n\u001b[0;32m--> <a href='file:///mnt/mnemo5/sum02dean/miniconda3/envs/pytorch/lib/python3.9/site-packages/torch/_tensor.py?line=306'>307</a>\u001b[0m torch\u001b[39m.\u001b[39;49mautograd\u001b[39m.\u001b[39;49mbackward(\u001b[39mself\u001b[39;49m, gradient, retain_graph, create_graph, inputs\u001b[39m=\u001b[39;49minputs)\n",
      "File \u001b[0;32m~/miniconda3/envs/pytorch/lib/python3.9/site-packages/torch/autograd/__init__.py:154\u001b[0m, in \u001b[0;36mbackward\u001b[0;34m(tensors, grad_tensors, retain_graph, create_graph, grad_variables, inputs)\u001b[0m\n\u001b[1;32m    <a href='file:///mnt/mnemo5/sum02dean/miniconda3/envs/pytorch/lib/python3.9/site-packages/torch/autograd/__init__.py?line=150'>151</a>\u001b[0m \u001b[39mif\u001b[39;00m retain_graph \u001b[39mis\u001b[39;00m \u001b[39mNone\u001b[39;00m:\n\u001b[1;32m    <a href='file:///mnt/mnemo5/sum02dean/miniconda3/envs/pytorch/lib/python3.9/site-packages/torch/autograd/__init__.py?line=151'>152</a>\u001b[0m     retain_graph \u001b[39m=\u001b[39m create_graph\n\u001b[0;32m--> <a href='file:///mnt/mnemo5/sum02dean/miniconda3/envs/pytorch/lib/python3.9/site-packages/torch/autograd/__init__.py?line=153'>154</a>\u001b[0m Variable\u001b[39m.\u001b[39;49m_execution_engine\u001b[39m.\u001b[39;49mrun_backward(\n\u001b[1;32m    <a href='file:///mnt/mnemo5/sum02dean/miniconda3/envs/pytorch/lib/python3.9/site-packages/torch/autograd/__init__.py?line=154'>155</a>\u001b[0m     tensors, grad_tensors_, retain_graph, create_graph, inputs,\n\u001b[1;32m    <a href='file:///mnt/mnemo5/sum02dean/miniconda3/envs/pytorch/lib/python3.9/site-packages/torch/autograd/__init__.py?line=155'>156</a>\u001b[0m     allow_unreachable\u001b[39m=\u001b[39;49m\u001b[39mTrue\u001b[39;49;00m, accumulate_grad\u001b[39m=\u001b[39;49m\u001b[39mTrue\u001b[39;49;00m)\n",
      "\u001b[0;31mKeyboardInterrupt\u001b[0m: "
     ]
    }
   ],
   "source": [
    "# Train loop\n",
    "print(\"Begining training!\")\n",
    "model.train()\n",
    "model = model.float()\n",
    "\n",
    "for epoch in range(EPOCHS):\n",
    "    epoch_loss = 0\n",
    "    for data in tqdm(train_loader): \n",
    "\n",
    "        # Grab inputs\n",
    "        X, Y, EI  = data.x, data.y, data.edge_index\n",
    "        B = data.batch\n",
    "        \n",
    "        # Zero the gradient\n",
    "        optimizer.zero_grad()  \n",
    "\n",
    "        # Compute model outputs\n",
    "        logits = model(X, EI, B).flatten()\n",
    "        probas = torch.sigmoid(logits)\n",
    "\n",
    "        # Grab the loss and step gradients\n",
    "        loss = criterion(probas, Y)  \n",
    "        epoch_loss += loss.item() \n",
    "\n",
    "        # Backpropogate the loss\n",
    "        loss.backward() \n",
    "        optimizer.step()  \n",
    "    \n",
    "    # Print the epochs\n",
    "    print(epoch_loss)\n",
    "\n",
    "\n"
   ]
  },
  {
   "cell_type": "code",
   "execution_count": 22,
   "metadata": {},
   "outputs": [
    {
     "name": "stderr",
     "output_type": "stream",
     "text": [
      "100%|██████████| 108/108 [00:08<00:00, 12.19it/s]\n"
     ]
    },
    {
     "data": {
      "image/png": "[encoded data removed]",
      "text/plain": [
       "<Figure size 640x480 with 1 Axes>"
      ]
     },
     "metadata": {},
     "output_type": "display_data"
    }
   ],
   "source": [
    "predictions = []\n",
    "probabilities = []\n",
    "truths = []\n",
    "\n",
    "# Loadder names: train_loader, test_loader, all_loader\n",
    "model.eval()\n",
    "with torch.no_grad():\n",
    "    for data in tqdm(train_loader): \n",
    "        \n",
    "        # Grab inputs\n",
    "        X, Y, EI  = data.x, data.y, data.edge_index\n",
    "        B = data.batch\n",
    "\n",
    "        # Compute preds\n",
    "        logits = model(X, EI, B).flatten()\n",
    "        acc, pred, probas = binary_acc(logits, Y)\n",
    "\n",
    "        # Append data\n",
    "        predictions.append(pred)\n",
    "        probabilities.append(probas)\n",
    "        truths.append(Y)\n",
    "\n",
    "# Format\n",
    "p = np.hstack(predictions)\n",
    "t = np.hstack(truths)\n",
    "prob = np.array(torch.concat(probabilities))\n",
    "\n",
    "# AUC/ROC\n",
    "fpr, tpr, _ = roc_curve(t, prob)\n",
    "roc_auc = auc(fpr, tpr)\n",
    "\n",
    "# Plotting\n",
    "plt.figure()\n",
    "lw = 0.8\n",
    "plt.plot(fpr, tpr, \"r--\", lw=lw, label=\"ROC curve (area = %0.2f)\" % roc_auc)\n",
    "plt.plot([0, 1], [0, 1], color=\"navy\", lw=lw, linestyle=\"--\")\n",
    "plt.xlim([0.0, 1.0])\n",
    "plt.ylim([0.0, 1.05])\n",
    "plt.xlabel(\"False Positive Rate\")\n",
    "plt.ylabel(\"True Positive Rate\")\n",
    "plt.title(\"Receiver operating characteristic example for GCN\")\n",
    "plt.legend(loc=\"lower right\")\n",
    "plt.show()\n",
    "plt.show()\n"
   ]
  },
  {
   "cell_type": "code",
   "execution_count": null,
   "metadata": {},
   "outputs": [],
   "source": []
  }
 ],
 "metadata": {
  "interpreter": {
   "hash": "91480398e29c201d85f830141776dbac7675dbf1ea4e71a85e6e607707f70528"
  },
  "kernelspec": {
   "display_name": "pytorch",
   "language": "python",
   "name": "python3"
  },
  "language_info": {
   "codemirror_mode": {
    "name": "ipython",
    "version": 3
   },
   "file_extension": ".py",
   "mimetype": "text/x-python",
   "name": "python",
   "nbconvert_exporter": "python",
   "pygments_lexer": "ipython3",
   "version": "3.9.10"
  }
 },
 "nbformat": 4,
 "nbformat_minor": 4
}
