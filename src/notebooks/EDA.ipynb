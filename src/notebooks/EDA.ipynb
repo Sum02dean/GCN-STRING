{
 "cells": [
  {
   "cell_type": "code",
   "execution_count": 62,
   "metadata": {},
   "outputs": [],
   "source": [
    "import os\n",
    "import sys\n",
    "import torch\n",
    "import pickle\n",
    "import matplotlib.pyplot as plt\n",
    "import numpy as np\n",
    "import math\n",
    "import random\n",
    "import networkx as nx\n",
    "import glob\n",
    "import pandas as pd\n",
    "import scipy \n",
    "import sklearn\n",
    "import torch\n",
    "import torch.nn.functional as F\n",
    "from tqdm import tqdm\n",
    "from torch_geometric.utils import convert\n",
    "from torch_geometric.data import InMemoryDataset, download_url, Data\n",
    "from torch_geometric.loader import DataLoader\n",
    "from torch.nn import Linear\n",
    "from torch_geometric.nn import GCNConv\n",
    "from torch_geometric.nn import global_mean_pool, global_max_pool"
   ]
  },
  {
   "cell_type": "code",
   "execution_count": 14,
   "metadata": {},
   "outputs": [],
   "source": [
    "# Load in label by name\n",
    "def get_label(file, labels):\n",
    "    pair_1 = file.split('/')[-1]\n",
    "    pair_1, pair_2 = pair_1.split(\"and\")\n",
    "    pair_1 = pair_1.replace(\".gpickle\", \"\")\n",
    "    pair_2 = pair_2.replace(\".gpickle\", \"\")\n",
    "    l = int(labels.loc[(labels.protein_1 == pair_1) & (labels.protein_2 == pair_2)].label)\n",
    "    return file, l\n",
    "\n",
    "def read_graphs(file_set):\n",
    "    g_list = []\n",
    "    for i, file in enumerate(file_set):\n",
    "        G = nx.read_gpickle(file)\n",
    "        g_list.append(G)\n",
    "    return g_list\n",
    "    \n",
    "def format_graphs(graphs, label=1):\n",
    "    graph_list = []\n",
    "    # Convert into pytorch geoetric dataset: Positive\n",
    "    for i, x in enumerate(tqdm(graphs)):\n",
    "        F = nx.convert_node_labels_to_integers(x)\n",
    "        for (n1, n2, d) in F.edges(data=True):\n",
    "            d.clear()\n",
    "        data = convert.from_networkx(F, group_edge_attrs=None)\n",
    "        data.y = torch.FloatTensor(np.array([label]))\n",
    "        graph_list.append(data)\n",
    "    return graph_list\n",
    "\n",
    "def binary_acc(y_pred, y_test):\n",
    "    probas = torch.sigmoid(y_pred)\n",
    "    y_pred_tag = torch.round(torch.sigmoid(y_pred))\n",
    "    correct_results_sum = (y_pred_tag == y_test).sum().float()\n",
    "    acc = correct_results_sum/y_test.shape[0]\n",
    "    acc = torch.round(acc * 100)\n",
    "    return acc, y_pred_tag, probas"
   ]
  },
  {
   "cell_type": "code",
   "execution_count": 6,
   "metadata": {},
   "outputs": [],
   "source": [
    "# Import the data\n",
    "graph_dir_path = '/mnt/mnemo5/sum02dean/sl_projects/GCN/GCN-STRING/src/scripts/graph_data'\n",
    "labels_dir_path = '/mnt/mnemo5/sum02dean/sl_projects/GCN/GCN-STRING/src/scripts/graph_labels'\n",
    "\n",
    "graph_files = glob.glob(os.path.join(graph_dir_path, '*'))\n",
    "graph_labels = glob.glob(os.path.join(labels_dir_path, '*'))\n",
    "graph_labels = pd.read_csv(graph_labels[0])\n",
    "\n",
    "# Create positive and negative sets\n",
    "positives = []\n",
    "negatives = []\n",
    "\n",
    "for i, file in enumerate(graph_files):\n",
    "    obs, label = get_label(file, graph_labels)\n",
    "    \n",
    "    if label == 1:\n",
    "        positives.append(obs)\n",
    "    else:\n",
    "        negatives.append(obs)\n"
   ]
  },
  {
   "cell_type": "code",
   "execution_count": 7,
   "metadata": {},
   "outputs": [],
   "source": [
    "# Balance the number of negatives with number of positives\n",
    "negatives = np.random.choice(negatives, size=len(positives), replace=False)"
   ]
  },
  {
   "cell_type": "code",
   "execution_count": 11,
   "metadata": {},
   "outputs": [],
   "source": [
    "# Read in the positives\n",
    "pos_graphs = read_graphs(positives)\n",
    "neg_graphs = read_graphs(negatives)\n"
   ]
  },
  {
   "cell_type": "code",
   "execution_count": 15,
   "metadata": {},
   "outputs": [
    {
     "name": "stderr",
     "output_type": "stream",
     "text": [
      "100%|██████████| 5456/5456 [06:01<00:00, 15.10it/s]  \n",
      "100%|██████████| 5456/5456 [06:27<00:00, 14.09it/s] \n"
     ]
    }
   ],
   "source": [
    "# Format graphs\n",
    "positive_graphs = format_graphs(pos_graphs, label=1)\n",
    "negative_graphs = format_graphs(neg_graphs, label=0)"
   ]
  },
  {
   "cell_type": "code",
   "execution_count": 50,
   "metadata": {},
   "outputs": [
    {
     "name": "stderr",
     "output_type": "stream",
     "text": [
      "100%|██████████| 5455/5455 [02:49<00:00, 32.10it/s] \n"
     ]
    }
   ],
   "source": [
    "df_pos = pd.DataFrame(positive_graphs[0].x)\n",
    "for i in tqdm(range(1,len(positive_graphs))):\n",
    "    df_2 = pd.DataFrame(positive_graphs[i].x)\n",
    "    df_pos = pd.concat([df_pos, df_2], axis=0, ignore_index=True)"
   ]
  },
  {
   "cell_type": "code",
   "execution_count": 53,
   "metadata": {},
   "outputs": [
    {
     "name": "stderr",
     "output_type": "stream",
     "text": [
      "100%|██████████| 5455/5455 [03:29<00:00, 26.10it/s] \n"
     ]
    }
   ],
   "source": [
    "df_neg = pd.DataFrame(negative_graphs[0].x)\n",
    "for i in tqdm(range(1,len(negative_graphs))):\n",
    "    df_2 = pd.DataFrame(negative_graphs[i].x)\n",
    "    df_neg = pd.concat([df_neg, df_2], axis=0, ignore_index=True)"
   ]
  },
  {
   "cell_type": "code",
   "execution_count": 85,
   "metadata": {},
   "outputs": [],
   "source": [
    "df_pos['label'] = [1] * np.shape(df)[0]\n",
    "df_neg['label'] = [0] * np.shape(df_neg)[0]\n"
   ]
  },
  {
   "cell_type": "code",
   "execution_count": 102,
   "metadata": {},
   "outputs": [],
   "source": [
    "from sklearn.decomposition import PCA\n",
    "c = pd.concat([df_pos, df_neg])\n",
    "c_labels = c['label']"
   ]
  },
  {
   "cell_type": "code",
   "execution_count": 104,
   "metadata": {},
   "outputs": [
    {
     "ename": "KeyboardInterrupt",
     "evalue": "",
     "output_type": "error",
     "traceback": [
      "\u001b[0;31m---------------------------------------------------------------------------\u001b[0m",
      "\u001b[0;31mKeyboardInterrupt\u001b[0m                         Traceback (most recent call last)",
      "\u001b[1;32m/mnt/mnemo5/sum02dean/sl_projects/GCN/GCN-STRING/src/notebooks/EDA.ipynb Cell 13'\u001b[0m in \u001b[0;36m<cell line: 2>\u001b[0;34m()\u001b[0m\n\u001b[1;32m      <a href='vscode-notebook-cell://ssh-remote%2Blphobos/mnt/mnemo5/sum02dean/sl_projects/GCN/GCN-STRING/src/notebooks/EDA.ipynb#ch0000014vscode-remote?line=0'>1</a>\u001b[0m pca \u001b[39m=\u001b[39m PCA(n_components\u001b[39m=\u001b[39m\u001b[39m2\u001b[39m)\n\u001b[0;32m----> <a href='vscode-notebook-cell://ssh-remote%2Blphobos/mnt/mnemo5/sum02dean/sl_projects/GCN/GCN-STRING/src/notebooks/EDA.ipynb#ch0000014vscode-remote?line=1'>2</a>\u001b[0m pcs \u001b[39m=\u001b[39m pca\u001b[39m.\u001b[39;49mfit_transform(c\u001b[39m.\u001b[39;49miloc[:, :\u001b[39m-\u001b[39;49m\u001b[39m1\u001b[39;49m]\u001b[39m.\u001b[39;49mvalues)\n\u001b[1;32m      <a href='vscode-notebook-cell://ssh-remote%2Blphobos/mnt/mnemo5/sum02dean/sl_projects/GCN/GCN-STRING/src/notebooks/EDA.ipynb#ch0000014vscode-remote?line=2'>3</a>\u001b[0m pcs \u001b[39m=\u001b[39m pd\u001b[39m.\u001b[39mDataFrame(pcs, columns\u001b[39m=\u001b[39m[\u001b[39m'\u001b[39m\u001b[39mPC1\u001b[39m\u001b[39m'\u001b[39m, \u001b[39m'\u001b[39m\u001b[39mPC2\u001b[39m\u001b[39m'\u001b[39m])\n",
      "File \u001b[0;32m~/miniconda3/envs/pytorch/lib/python3.9/site-packages/sklearn/decomposition/_pca.py:407\u001b[0m, in \u001b[0;36mPCA.fit_transform\u001b[0;34m(self, X, y)\u001b[0m\n\u001b[1;32m    <a href='file:///~/miniconda3/envs/pytorch/lib/python3.9/site-packages/sklearn/decomposition/_pca.py?line=384'>385</a>\u001b[0m \u001b[39mdef\u001b[39;00m \u001b[39mfit_transform\u001b[39m(\u001b[39mself\u001b[39m, X, y\u001b[39m=\u001b[39m\u001b[39mNone\u001b[39;00m):\n\u001b[1;32m    <a href='file:///~/miniconda3/envs/pytorch/lib/python3.9/site-packages/sklearn/decomposition/_pca.py?line=385'>386</a>\u001b[0m     \u001b[39m\"\"\"Fit the model with X and apply the dimensionality reduction on X.\u001b[39;00m\n\u001b[1;32m    <a href='file:///~/miniconda3/envs/pytorch/lib/python3.9/site-packages/sklearn/decomposition/_pca.py?line=386'>387</a>\u001b[0m \n\u001b[1;32m    <a href='file:///~/miniconda3/envs/pytorch/lib/python3.9/site-packages/sklearn/decomposition/_pca.py?line=387'>388</a>\u001b[0m \u001b[39m    Parameters\u001b[39;00m\n\u001b[0;32m   (...)\u001b[0m\n\u001b[1;32m    <a href='file:///~/miniconda3/envs/pytorch/lib/python3.9/site-packages/sklearn/decomposition/_pca.py?line=404'>405</a>\u001b[0m \u001b[39m    C-ordered array, use 'np.ascontiguousarray'.\u001b[39;00m\n\u001b[1;32m    <a href='file:///~/miniconda3/envs/pytorch/lib/python3.9/site-packages/sklearn/decomposition/_pca.py?line=405'>406</a>\u001b[0m \u001b[39m    \"\"\"\u001b[39;00m\n\u001b[0;32m--> <a href='file:///~/miniconda3/envs/pytorch/lib/python3.9/site-packages/sklearn/decomposition/_pca.py?line=406'>407</a>\u001b[0m     U, S, Vt \u001b[39m=\u001b[39m \u001b[39mself\u001b[39;49m\u001b[39m.\u001b[39;49m_fit(X)\n\u001b[1;32m    <a href='file:///~/miniconda3/envs/pytorch/lib/python3.9/site-packages/sklearn/decomposition/_pca.py?line=407'>408</a>\u001b[0m     U \u001b[39m=\u001b[39m U[:, : \u001b[39mself\u001b[39m\u001b[39m.\u001b[39mn_components_]\n\u001b[1;32m    <a href='file:///~/miniconda3/envs/pytorch/lib/python3.9/site-packages/sklearn/decomposition/_pca.py?line=409'>410</a>\u001b[0m     \u001b[39mif\u001b[39;00m \u001b[39mself\u001b[39m\u001b[39m.\u001b[39mwhiten:\n\u001b[1;32m    <a href='file:///~/miniconda3/envs/pytorch/lib/python3.9/site-packages/sklearn/decomposition/_pca.py?line=410'>411</a>\u001b[0m         \u001b[39m# X_new = X * V / S * sqrt(n_samples) = U * sqrt(n_samples)\u001b[39;00m\n",
      "File \u001b[0;32m~/miniconda3/envs/pytorch/lib/python3.9/site-packages/sklearn/decomposition/_pca.py:459\u001b[0m, in \u001b[0;36mPCA._fit\u001b[0;34m(self, X)\u001b[0m\n\u001b[1;32m    <a href='file:///~/miniconda3/envs/pytorch/lib/python3.9/site-packages/sklearn/decomposition/_pca.py?line=456'>457</a>\u001b[0m     \u001b[39mreturn\u001b[39;00m \u001b[39mself\u001b[39m\u001b[39m.\u001b[39m_fit_full(X, n_components)\n\u001b[1;32m    <a href='file:///~/miniconda3/envs/pytorch/lib/python3.9/site-packages/sklearn/decomposition/_pca.py?line=457'>458</a>\u001b[0m \u001b[39melif\u001b[39;00m \u001b[39mself\u001b[39m\u001b[39m.\u001b[39m_fit_svd_solver \u001b[39min\u001b[39;00m [\u001b[39m\"\u001b[39m\u001b[39marpack\u001b[39m\u001b[39m\"\u001b[39m, \u001b[39m\"\u001b[39m\u001b[39mrandomized\u001b[39m\u001b[39m\"\u001b[39m]:\n\u001b[0;32m--> <a href='file:///~/miniconda3/envs/pytorch/lib/python3.9/site-packages/sklearn/decomposition/_pca.py?line=458'>459</a>\u001b[0m     \u001b[39mreturn\u001b[39;00m \u001b[39mself\u001b[39;49m\u001b[39m.\u001b[39;49m_fit_truncated(X, n_components, \u001b[39mself\u001b[39;49m\u001b[39m.\u001b[39;49m_fit_svd_solver)\n\u001b[1;32m    <a href='file:///~/miniconda3/envs/pytorch/lib/python3.9/site-packages/sklearn/decomposition/_pca.py?line=459'>460</a>\u001b[0m \u001b[39melse\u001b[39;00m:\n\u001b[1;32m    <a href='file:///~/miniconda3/envs/pytorch/lib/python3.9/site-packages/sklearn/decomposition/_pca.py?line=460'>461</a>\u001b[0m     \u001b[39mraise\u001b[39;00m \u001b[39mValueError\u001b[39;00m(\n\u001b[1;32m    <a href='file:///~/miniconda3/envs/pytorch/lib/python3.9/site-packages/sklearn/decomposition/_pca.py?line=461'>462</a>\u001b[0m         \u001b[39m\"\u001b[39m\u001b[39mUnrecognized svd_solver=\u001b[39m\u001b[39m'\u001b[39m\u001b[39m{0}\u001b[39;00m\u001b[39m'\u001b[39m\u001b[39m\"\u001b[39m\u001b[39m.\u001b[39mformat(\u001b[39mself\u001b[39m\u001b[39m.\u001b[39m_fit_svd_solver)\n\u001b[1;32m    <a href='file:///~/miniconda3/envs/pytorch/lib/python3.9/site-packages/sklearn/decomposition/_pca.py?line=462'>463</a>\u001b[0m     )\n",
      "File \u001b[0;32m~/miniconda3/envs/pytorch/lib/python3.9/site-packages/sklearn/decomposition/_pca.py:580\u001b[0m, in \u001b[0;36mPCA._fit_truncated\u001b[0;34m(self, X, n_components, svd_solver)\u001b[0m\n\u001b[1;32m    <a href='file:///~/miniconda3/envs/pytorch/lib/python3.9/site-packages/sklearn/decomposition/_pca.py?line=575'>576</a>\u001b[0m     U, Vt \u001b[39m=\u001b[39m svd_flip(U[:, ::\u001b[39m-\u001b[39m\u001b[39m1\u001b[39m], Vt[::\u001b[39m-\u001b[39m\u001b[39m1\u001b[39m])\n\u001b[1;32m    <a href='file:///~/miniconda3/envs/pytorch/lib/python3.9/site-packages/sklearn/decomposition/_pca.py?line=577'>578</a>\u001b[0m \u001b[39melif\u001b[39;00m svd_solver \u001b[39m==\u001b[39m \u001b[39m\"\u001b[39m\u001b[39mrandomized\u001b[39m\u001b[39m\"\u001b[39m:\n\u001b[1;32m    <a href='file:///~/miniconda3/envs/pytorch/lib/python3.9/site-packages/sklearn/decomposition/_pca.py?line=578'>579</a>\u001b[0m     \u001b[39m# sign flipping is done inside\u001b[39;00m\n\u001b[0;32m--> <a href='file:///~/miniconda3/envs/pytorch/lib/python3.9/site-packages/sklearn/decomposition/_pca.py?line=579'>580</a>\u001b[0m     U, S, Vt \u001b[39m=\u001b[39m randomized_svd(\n\u001b[1;32m    <a href='file:///~/miniconda3/envs/pytorch/lib/python3.9/site-packages/sklearn/decomposition/_pca.py?line=580'>581</a>\u001b[0m         X,\n\u001b[1;32m    <a href='file:///~/miniconda3/envs/pytorch/lib/python3.9/site-packages/sklearn/decomposition/_pca.py?line=581'>582</a>\u001b[0m         n_components\u001b[39m=\u001b[39;49mn_components,\n\u001b[1;32m    <a href='file:///~/miniconda3/envs/pytorch/lib/python3.9/site-packages/sklearn/decomposition/_pca.py?line=582'>583</a>\u001b[0m         n_iter\u001b[39m=\u001b[39;49m\u001b[39mself\u001b[39;49m\u001b[39m.\u001b[39;49miterated_power,\n\u001b[1;32m    <a href='file:///~/miniconda3/envs/pytorch/lib/python3.9/site-packages/sklearn/decomposition/_pca.py?line=583'>584</a>\u001b[0m         flip_sign\u001b[39m=\u001b[39;49m\u001b[39mTrue\u001b[39;49;00m,\n\u001b[1;32m    <a href='file:///~/miniconda3/envs/pytorch/lib/python3.9/site-packages/sklearn/decomposition/_pca.py?line=584'>585</a>\u001b[0m         random_state\u001b[39m=\u001b[39;49mrandom_state,\n\u001b[1;32m    <a href='file:///~/miniconda3/envs/pytorch/lib/python3.9/site-packages/sklearn/decomposition/_pca.py?line=585'>586</a>\u001b[0m     )\n\u001b[1;32m    <a href='file:///~/miniconda3/envs/pytorch/lib/python3.9/site-packages/sklearn/decomposition/_pca.py?line=587'>588</a>\u001b[0m \u001b[39mself\u001b[39m\u001b[39m.\u001b[39mn_samples_, \u001b[39mself\u001b[39m\u001b[39m.\u001b[39mn_features_ \u001b[39m=\u001b[39m n_samples, n_features\n\u001b[1;32m    <a href='file:///~/miniconda3/envs/pytorch/lib/python3.9/site-packages/sklearn/decomposition/_pca.py?line=588'>589</a>\u001b[0m \u001b[39mself\u001b[39m\u001b[39m.\u001b[39mcomponents_ \u001b[39m=\u001b[39m Vt\n",
      "File \u001b[0;32m~/miniconda3/envs/pytorch/lib/python3.9/site-packages/sklearn/utils/extmath.py:395\u001b[0m, in \u001b[0;36mrandomized_svd\u001b[0;34m(M, n_components, n_oversamples, n_iter, power_iteration_normalizer, transpose, flip_sign, random_state)\u001b[0m\n\u001b[1;32m    <a href='file:///~/miniconda3/envs/pytorch/lib/python3.9/site-packages/sklearn/utils/extmath.py?line=390'>391</a>\u001b[0m \u001b[39mif\u001b[39;00m transpose:\n\u001b[1;32m    <a href='file:///~/miniconda3/envs/pytorch/lib/python3.9/site-packages/sklearn/utils/extmath.py?line=391'>392</a>\u001b[0m     \u001b[39m# this implementation is a bit faster with smaller shape[1]\u001b[39;00m\n\u001b[1;32m    <a href='file:///~/miniconda3/envs/pytorch/lib/python3.9/site-packages/sklearn/utils/extmath.py?line=392'>393</a>\u001b[0m     M \u001b[39m=\u001b[39m M\u001b[39m.\u001b[39mT\n\u001b[0;32m--> <a href='file:///~/miniconda3/envs/pytorch/lib/python3.9/site-packages/sklearn/utils/extmath.py?line=394'>395</a>\u001b[0m Q \u001b[39m=\u001b[39m randomized_range_finder(\n\u001b[1;32m    <a href='file:///~/miniconda3/envs/pytorch/lib/python3.9/site-packages/sklearn/utils/extmath.py?line=395'>396</a>\u001b[0m     M,\n\u001b[1;32m    <a href='file:///~/miniconda3/envs/pytorch/lib/python3.9/site-packages/sklearn/utils/extmath.py?line=396'>397</a>\u001b[0m     size\u001b[39m=\u001b[39;49mn_random,\n\u001b[1;32m    <a href='file:///~/miniconda3/envs/pytorch/lib/python3.9/site-packages/sklearn/utils/extmath.py?line=397'>398</a>\u001b[0m     n_iter\u001b[39m=\u001b[39;49mn_iter,\n\u001b[1;32m    <a href='file:///~/miniconda3/envs/pytorch/lib/python3.9/site-packages/sklearn/utils/extmath.py?line=398'>399</a>\u001b[0m     power_iteration_normalizer\u001b[39m=\u001b[39;49mpower_iteration_normalizer,\n\u001b[1;32m    <a href='file:///~/miniconda3/envs/pytorch/lib/python3.9/site-packages/sklearn/utils/extmath.py?line=399'>400</a>\u001b[0m     random_state\u001b[39m=\u001b[39;49mrandom_state,\n\u001b[1;32m    <a href='file:///~/miniconda3/envs/pytorch/lib/python3.9/site-packages/sklearn/utils/extmath.py?line=400'>401</a>\u001b[0m )\n\u001b[1;32m    <a href='file:///~/miniconda3/envs/pytorch/lib/python3.9/site-packages/sklearn/utils/extmath.py?line=402'>403</a>\u001b[0m \u001b[39m# project M to the (k + p) dimensional space using the basis vectors\u001b[39;00m\n\u001b[1;32m    <a href='file:///~/miniconda3/envs/pytorch/lib/python3.9/site-packages/sklearn/utils/extmath.py?line=403'>404</a>\u001b[0m B \u001b[39m=\u001b[39m safe_sparse_dot(Q\u001b[39m.\u001b[39mT, M)\n",
      "File \u001b[0;32m~/miniconda3/envs/pytorch/lib/python3.9/site-packages/sklearn/utils/extmath.py:237\u001b[0m, in \u001b[0;36mrandomized_range_finder\u001b[0;34m(A, size, n_iter, power_iteration_normalizer, random_state)\u001b[0m\n\u001b[1;32m    <a href='file:///~/miniconda3/envs/pytorch/lib/python3.9/site-packages/sklearn/utils/extmath.py?line=234'>235</a>\u001b[0m     Q \u001b[39m=\u001b[39m safe_sparse_dot(A\u001b[39m.\u001b[39mT, Q)\n\u001b[1;32m    <a href='file:///~/miniconda3/envs/pytorch/lib/python3.9/site-packages/sklearn/utils/extmath.py?line=235'>236</a>\u001b[0m \u001b[39melif\u001b[39;00m power_iteration_normalizer \u001b[39m==\u001b[39m \u001b[39m\"\u001b[39m\u001b[39mLU\u001b[39m\u001b[39m\"\u001b[39m:\n\u001b[0;32m--> <a href='file:///~/miniconda3/envs/pytorch/lib/python3.9/site-packages/sklearn/utils/extmath.py?line=236'>237</a>\u001b[0m     Q, _ \u001b[39m=\u001b[39m linalg\u001b[39m.\u001b[39;49mlu(safe_sparse_dot(A, Q), permute_l\u001b[39m=\u001b[39;49m\u001b[39mTrue\u001b[39;49;00m)\n\u001b[1;32m    <a href='file:///~/miniconda3/envs/pytorch/lib/python3.9/site-packages/sklearn/utils/extmath.py?line=237'>238</a>\u001b[0m     Q, _ \u001b[39m=\u001b[39m linalg\u001b[39m.\u001b[39mlu(safe_sparse_dot(A\u001b[39m.\u001b[39mT, Q), permute_l\u001b[39m=\u001b[39m\u001b[39mTrue\u001b[39;00m)\n\u001b[1;32m    <a href='file:///~/miniconda3/envs/pytorch/lib/python3.9/site-packages/sklearn/utils/extmath.py?line=238'>239</a>\u001b[0m \u001b[39melif\u001b[39;00m power_iteration_normalizer \u001b[39m==\u001b[39m \u001b[39m\"\u001b[39m\u001b[39mQR\u001b[39m\u001b[39m\"\u001b[39m:\n",
      "File \u001b[0;32m~/miniconda3/envs/pytorch/lib/python3.9/site-packages/scipy/linalg/_decomp_lu.py:216\u001b[0m, in \u001b[0;36mlu\u001b[0;34m(a, permute_l, overwrite_a, check_finite)\u001b[0m\n\u001b[1;32m    <a href='file:///~/miniconda3/envs/pytorch/lib/python3.9/site-packages/scipy/linalg/_decomp_lu.py?line=213'>214</a>\u001b[0m overwrite_a \u001b[39m=\u001b[39m overwrite_a \u001b[39mor\u001b[39;00m (_datacopied(a1, a))\n\u001b[1;32m    <a href='file:///~/miniconda3/envs/pytorch/lib/python3.9/site-packages/scipy/linalg/_decomp_lu.py?line=214'>215</a>\u001b[0m flu, \u001b[39m=\u001b[39m get_flinalg_funcs((\u001b[39m'\u001b[39m\u001b[39mlu\u001b[39m\u001b[39m'\u001b[39m,), (a1,))\n\u001b[0;32m--> <a href='file:///~/miniconda3/envs/pytorch/lib/python3.9/site-packages/scipy/linalg/_decomp_lu.py?line=215'>216</a>\u001b[0m p, l, u, info \u001b[39m=\u001b[39m flu(a1, permute_l\u001b[39m=\u001b[39;49mpermute_l, overwrite_a\u001b[39m=\u001b[39;49moverwrite_a)\n\u001b[1;32m    <a href='file:///~/miniconda3/envs/pytorch/lib/python3.9/site-packages/scipy/linalg/_decomp_lu.py?line=216'>217</a>\u001b[0m \u001b[39mif\u001b[39;00m info \u001b[39m<\u001b[39m \u001b[39m0\u001b[39m:\n\u001b[1;32m    <a href='file:///~/miniconda3/envs/pytorch/lib/python3.9/site-packages/scipy/linalg/_decomp_lu.py?line=217'>218</a>\u001b[0m     \u001b[39mraise\u001b[39;00m \u001b[39mValueError\u001b[39;00m(\u001b[39m'\u001b[39m\u001b[39millegal value in \u001b[39m\u001b[39m%d\u001b[39;00m\u001b[39mth argument of \u001b[39m\u001b[39m'\u001b[39m\n\u001b[1;32m    <a href='file:///~/miniconda3/envs/pytorch/lib/python3.9/site-packages/scipy/linalg/_decomp_lu.py?line=218'>219</a>\u001b[0m                      \u001b[39m'\u001b[39m\u001b[39minternal lu.getrf\u001b[39m\u001b[39m'\u001b[39m \u001b[39m%\u001b[39m \u001b[39m-\u001b[39minfo)\n",
      "\u001b[0;31mKeyboardInterrupt\u001b[0m: "
     ]
    }
   ],
   "source": [
    "pca = PCA(n_components=2)\n",
    "pcs = pca.fit_transform(c.iloc[:, :-1].values)\n",
    "pcs = pd.DataFrame(pcs, columns=['PC1', 'PC2'])\n"
   ]
  },
  {
   "cell_type": "code",
   "execution_count": 90,
   "metadata": {},
   "outputs": [
    {
     "data": {
      "text/html": [
       "<div>\n",
       "<style scoped>\n",
       "    .dataframe tbody tr th:only-of-type {\n",
       "        vertical-align: middle;\n",
       "    }\n",
       "\n",
       "    .dataframe tbody tr th {\n",
       "        vertical-align: top;\n",
       "    }\n",
       "\n",
       "    .dataframe thead th {\n",
       "        text-align: right;\n",
       "    }\n",
       "</style>\n",
       "<table border=\"1\" class=\"dataframe\">\n",
       "  <thead>\n",
       "    <tr style=\"text-align: right;\">\n",
       "      <th></th>\n",
       "      <th>PC1</th>\n",
       "      <th>PC2</th>\n",
       "      <th>label</th>\n",
       "    </tr>\n",
       "  </thead>\n",
       "  <tbody>\n",
       "    <tr>\n",
       "      <th>0</th>\n",
       "      <td>-104.978883</td>\n",
       "      <td>112.363586</td>\n",
       "      <td>1</td>\n",
       "    </tr>\n",
       "    <tr>\n",
       "      <th>1</th>\n",
       "      <td>-105.926855</td>\n",
       "      <td>24.809373</td>\n",
       "      <td>1</td>\n",
       "    </tr>\n",
       "    <tr>\n",
       "      <th>2</th>\n",
       "      <td>64.161726</td>\n",
       "      <td>50.862657</td>\n",
       "      <td>1</td>\n",
       "    </tr>\n",
       "    <tr>\n",
       "      <th>3</th>\n",
       "      <td>55.633954</td>\n",
       "      <td>11.575439</td>\n",
       "      <td>1</td>\n",
       "    </tr>\n",
       "    <tr>\n",
       "      <th>4</th>\n",
       "      <td>61.976700</td>\n",
       "      <td>55.284570</td>\n",
       "      <td>1</td>\n",
       "    </tr>\n",
       "    <tr>\n",
       "      <th>...</th>\n",
       "      <td>...</td>\n",
       "      <td>...</td>\n",
       "      <td>...</td>\n",
       "    </tr>\n",
       "    <tr>\n",
       "      <th>7014690</th>\n",
       "      <td>72.080888</td>\n",
       "      <td>29.896771</td>\n",
       "      <td>0</td>\n",
       "    </tr>\n",
       "    <tr>\n",
       "      <th>7014691</th>\n",
       "      <td>64.026486</td>\n",
       "      <td>17.281433</td>\n",
       "      <td>0</td>\n",
       "    </tr>\n",
       "    <tr>\n",
       "      <th>7014692</th>\n",
       "      <td>42.766979</td>\n",
       "      <td>8.665316</td>\n",
       "      <td>0</td>\n",
       "    </tr>\n",
       "    <tr>\n",
       "      <th>7014693</th>\n",
       "      <td>31.319823</td>\n",
       "      <td>3.628742</td>\n",
       "      <td>0</td>\n",
       "    </tr>\n",
       "    <tr>\n",
       "      <th>7014694</th>\n",
       "      <td>48.259403</td>\n",
       "      <td>49.093559</td>\n",
       "      <td>0</td>\n",
       "    </tr>\n",
       "  </tbody>\n",
       "</table>\n",
       "<p>7014695 rows × 3 columns</p>\n",
       "</div>"
      ],
      "text/plain": [
       "                PC1         PC2  label\n",
       "0       -104.978883  112.363586      1\n",
       "1       -105.926855   24.809373      1\n",
       "2         64.161726   50.862657      1\n",
       "3         55.633954   11.575439      1\n",
       "4         61.976700   55.284570      1\n",
       "...             ...         ...    ...\n",
       "7014690   72.080888   29.896771      0\n",
       "7014691   64.026486   17.281433      0\n",
       "7014692   42.766979    8.665316      0\n",
       "7014693   31.319823    3.628742      0\n",
       "7014694   48.259403   49.093559      0\n",
       "\n",
       "[7014695 rows x 3 columns]"
      ]
     },
     "execution_count": 90,
     "metadata": {},
     "output_type": "execute_result"
    }
   ],
   "source": [
    "pcs['label'] = c_labels.values\n",
    "pcs"
   ]
  },
  {
   "cell_type": "code",
   "execution_count": null,
   "metadata": {},
   "outputs": [],
   "source": [
    "import seaborn as sns\n",
    "plt.figure(figsize=(16,10))\n",
    "sns.scatterplot(\n",
    "    x=\"PC1\", y=\"PC2\",\n",
    "    hue=\"label\",\n",
    "    data=pcs,\n",
    "    legend=\"full\",\n",
    "    alpha=0.3\n",
    ")\n",
    "\n",
    "plt.show()"
   ]
  }
 ],
 "metadata": {
  "interpreter": {
   "hash": "91480398e29c201d85f830141776dbac7675dbf1ea4e71a85e6e607707f70528"
  },
  "kernelspec": {
   "display_name": "Python 3.9.10",
   "language": "python",
   "name": "python3"
  },
  "language_info": {
   "codemirror_mode": {
    "name": "ipython",
    "version": 3
   },
   "file_extension": ".py",
   "mimetype": "text/x-python",
   "name": "python",
   "nbconvert_exporter": "python",
   "pygments_lexer": "ipython3",
   "version": "3.9.10"
  },
  "orig_nbformat": 4
 },
 "nbformat": 4,
 "nbformat_minor": 2
}
